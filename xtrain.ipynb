{
 "cells": [
  {
   "cell_type": "code",
   "execution_count": null,
   "metadata": {
    "colab": {
     "base_uri": "https://localhost:8080/"
    },
    "id": "g0lzPVtAkK-L",
    "outputId": "7b8e5a07-2801-463d-f371-4a9f80709473"
   },
   "outputs": [],
   "source": [
    "import tensorflow\n",
    "from tensorflow.keras.layers import Reshape\n",
    "from keras.layers import Input, Embedding, Reshape, LSTM, Dense, Flatten, Bidirectional, Concatenate\n",
    "from keras.models import Model\n",
    "import os\n",
    "import numpy as np\n",
    "from tensorflow.keras.preprocessing.text import Tokenizer\n",
    "from tensorflow.keras.preprocessing.sequence import pad_sequences\n",
    "import re\n",
    "import pickle\n"
   ]
  },
  {
   "cell_type": "code",
   "execution_count": null,
   "metadata": {
    "id": "dPoU8viTkYAK"
   },
   "outputs": [],
   "source": [
    "batch_size = 16\n",
    "max_sequence_length = 384\n",
    "max_word_length = 20\n",
    "embedding_size = 128\n",
    "lstm_units = 256\n",
    "num_classes = 14\n",
    "\n",
    "directory_train='./training-data'\n",
    "directory_test='./testing-data'\n",
    "directory_all='./all-data'\n",
    "model_path='bi_best_model.keras' #modelin konumu\n",
    "model_test_path='./deneme-veriler'#modelin testi için kullanılacak verinin konumu"
   ]
  },
  {
   "cell_type": "code",
   "execution_count": null,
   "metadata": {
    "id": "EoSXRADHCYxw"
   },
   "outputs": [],
   "source": [
    "train_test_texts=[]\n",
    "\n",
    "for filename in os.listdir(directory_all):\n",
    "    if filename.endswith('.txt'):\n",
    "        file_path = os.path.join(directory_all, filename)\n",
    "        with open(file_path, 'r', encoding='utf-8') as file:\n",
    "            content = file.read()\n",
    "            content = re.sub(r'<start_\".*?\">', '', content)\n",
    "            content = re.sub(r'<end_\".*?\">', '', content)\n",
    "            txt_data = content.split()\n",
    "            train_test_texts.extend(txt_data)\n",
    "\n",
    "tokenizer = Tokenizer(char_level=True, lower=False)\n",
    "tokenizer.fit_on_texts(train_test_texts)\n",
    "\n",
    "vocab_len = len(tokenizer.word_index) + 1"
   ]
  },
  {
   "cell_type": "code",
   "execution_count": null,
   "metadata": {},
   "outputs": [],
   "source": [
    "#SAVE TOKENIZER\n",
    "with open('tokenizer.pickle', 'wb') as handle:\n",
    "    pickle.dump(tokenizer, handle, protocol=pickle.HIGHEST_PROTOCOL)\n",
    "\n",
    "print(tokenizer.word_index)"
   ]
  },
  {
   "cell_type": "code",
   "execution_count": null,
   "metadata": {
    "colab": {
     "base_uri": "https://localhost:8080/"
    },
    "id": "Xdd7tSD_kcQs",
    "outputId": "fc5c41a4-7644-40ff-e95d-f1c605d091e2"
   },
   "outputs": [],
   "source": [
    "def process_text_files(directory):\n",
    "    all_texts = []\n",
    "    all_texts_extend = []\n",
    "\n",
    "    # Iterate over all files in the directory\n",
    "    for filename in os.listdir(directory):\n",
    "        if filename.endswith('.txt'):\n",
    "            file_path = os.path.join(directory, filename)\n",
    "            with open(file_path, 'r', encoding='utf-8') as file:\n",
    "                content = file.read()\n",
    "                content = re.sub(r'<start_\".*?\">', '', content)\n",
    "                content = re.sub(r'<end_\".*?\">', '', content)\n",
    "                txt_data = content.split()\n",
    "                all_texts.append(txt_data)\n",
    "                all_texts_extend.extend(txt_data)\n",
    "\n",
    "    #tokenizer = Tokenizer(char_level=True, lower=False)\n",
    "    #tokenizer.fit_on_texts(all_texts_extend)\n",
    "\n",
    "    all_sequences=[]\n",
    "    for i in range(len(all_texts)):\n",
    "        all_sequences.append(tokenizer.texts_to_sequences(all_texts[i]))\n",
    "        \n",
    "\n",
    "    max_word_length = 20\n",
    "    trunc_type = 'post'\n",
    "    padding_type = 'post'\n",
    "\n",
    "    # Pad each word sequence to the length of the longest word\n",
    "    all_padded_sequences=[]\n",
    "    for i in range(len(all_sequences)):\n",
    "        padded_sequence = pad_sequences(all_sequences[i], maxlen=max_word_length, padding=padding_type, truncating=trunc_type)\n",
    "        all_padded_sequences.append(padded_sequence)\n",
    "\n",
    "    return all_padded_sequences, tokenizer.word_index\n",
    "\n",
    "\n",
    "#   TRAIN\n",
    "directory_path = directory_train\n",
    "padded_sequences, word_index = process_text_files(directory_path)\n",
    "padded_arrays = []\n",
    "for arr in padded_sequences:\n",
    "    pad_width = ((0, max_sequence_length - len(arr)), (0, 0))\n",
    "    padded_arr = np.pad(arr, pad_width, mode='constant', constant_values=0)\n",
    "    padded_arrays.append(padded_arr)\n",
    "\n",
    "#  TEST\n",
    "directory_path_test = directory_test\n",
    "padded_sequences_test, word_index_test = process_text_files(directory_path_test)\n",
    "padded_arrays_test = []\n",
    "for arr in padded_sequences_test:\n",
    "    pad_width = ((0, max_sequence_length - len(arr)), (0, 0))\n",
    "    padded_arr = np.pad(arr, pad_width, mode='constant', constant_values=0)\n",
    "    padded_arrays_test.append(padded_arr)\n",
    "\n",
    "\n",
    "np.set_printoptions(threshold=np.inf)\n",
    "\n",
    "#son array'i numpy array'ine çevir\n",
    "x_train=np.array(padded_arrays)\n",
    "x_test=np.array(padded_arrays_test)\n",
    "\n",
    "print(x_train.shape)\n",
    "print(x_test.shape)\n",
    "\n",
    "np.set_printoptions(threshold=1000)"
   ]
  },
  {
   "cell_type": "code",
   "execution_count": null,
   "metadata": {
    "colab": {
     "base_uri": "https://localhost:8080/"
    },
    "id": "dVT6bwgCkeWQ",
    "outputId": "badc6c95-dd66-41b3-981d-43b9ee7f1084"
   },
   "outputs": [],
   "source": [
    "global wordsList,wordsIndextList\n",
    "\n",
    "wordsList = []\n",
    "wordsIndextList = []\n",
    "max_sequence_length = 384\n",
    "\n",
    "\n",
    "label_list = [\"<start_\\\"company_name\\\">\",\n",
    "              \"<end_\\\"company_name\\\">\",\n",
    "                  \"<start_\\\"date\\\">\",\n",
    "                  \"<end_\\\"date\\\">\",\n",
    "                  \"<start_\\\"time\\\">\",\n",
    "                  \"<end_\\\"time\\\">\",\n",
    "                  \"<start_\\\"receipt_number\\\">\",\n",
    "                  \"<end_\\\"receipt_number\\\">\",\n",
    "                  \"<start_\\\"tax\\\">\",\n",
    "                  \"<end_\\\"tax\\\">\",\n",
    "                  \"<start_\\\"amount\\\">\",\n",
    "                  \"<end_\\\"amount\\\">\"]\n",
    "\n",
    "label_list2= [\"Pad\",\"Others\",\"B_Comp\",\"l_Comp\",\"B_Date\",\"l_Date\",\"B_Time\",\"l_Time\",\n",
    "                  \"B_Receipt\",\"l_Receipt\",\"B_Tax\",\"l_Tax\",\"B_Amount\",\"l_Amount\"]\n",
    "\n",
    "\n",
    "\n",
    "def one_hot_encode_index_list():\n",
    "    oneHotEncodedList = []\n",
    "    unique_labels_len = len(sorted(set(label_list2)))\n",
    "    for i in wordsIndextList:\n",
    "        bitlist = list(0 for i in range(unique_labels_len))\n",
    "        bitlist[i] = 1\n",
    "        oneHotEncodedList.append(bitlist)\n",
    "\n",
    "    for i in  range(max_sequence_length-len(oneHotEncodedList)):\n",
    "        oneHotEncodedList.append([1,0,0,0,0,0,0,0,0,0,0,0,0,0])\n",
    "    return oneHotEncodedList\n",
    "\n",
    "\n",
    "def splitfunction(text:str):\n",
    "    global wordsList,wordsIndextList\n",
    "    wordsList = []\n",
    "    wordsIndextList = []\n",
    "    words = text.split()\n",
    "    for word in words:\n",
    "        wordsList.append(word)\n",
    "        wordsIndextList.append(1)\n",
    "\n",
    "\n",
    "\n",
    "def indexAssignment(tag,last):\n",
    "    if(tag==None):\n",
    "        return None\n",
    "    index = label_list.index(tag)+2\n",
    "    if(last == \"l\"):\n",
    "       index +=1\n",
    "    return index\n",
    "\n",
    "\n",
    "def checkTag(word:str):\n",
    "    for tag in label_list:\n",
    "        index = word.find(tag)\n",
    "        if index != -1:\n",
    "            return tag\n",
    "    return None\n",
    "\n",
    "\n",
    "\n",
    "def tagingWords():\n",
    "    control = None\n",
    "    counter = 0\n",
    "    for word in wordsList:\n",
    "        tag = checkTag(word)\n",
    "        if tag != None:\n",
    "            if(word.find(\"<start_\") != -1):\n",
    "                control = tag\n",
    "            if(word.find(\"<start_\") != -1 and word.find(\"<end_\") == -1):\n",
    "                wordsIndextList[counter] = indexAssignment(tag,\"B\")\n",
    "                counter+=1\n",
    "            elif(word.find(\"<start_\") != -1 and word.find(\"<end_\") != -1):\n",
    "                wordsIndextList[counter] = indexAssignment(tag,\"B\")\n",
    "                counter+=1\n",
    "            else:\n",
    "                wordsIndextList[counter] = indexAssignment(tag,\"B\")\n",
    "                counter+=1\n",
    "            if(word.find(\"<end_\") != -1):\n",
    "                control = None\n",
    "        elif control !=None:\n",
    "            wordsIndextList[counter] = indexAssignment(control,\"l\")\n",
    "            counter+=1\n",
    "        else:\n",
    "            counter+=1\n",
    "\n",
    "\n",
    "def oneHotEncodedFunction(texts):\n",
    "    splitfunction(texts)\n",
    "    tagingWords()\n",
    "    return np.array(one_hot_encode_index_list())\n",
    "\n",
    "\n",
    "\n",
    "# TRAIN\n",
    "folder_path_train =  directory_train\n",
    "file_list_train = os.listdir(folder_path_train)\n",
    "y_train= []\n",
    "for file_name in file_list_train:\n",
    "    if file_name.endswith(\".txt\"):\n",
    "        file_path = os.path.join(folder_path_train, file_name)\n",
    "        with open(file_path, 'r', encoding='utf-8') as f:\n",
    "            text = f.read()\n",
    "            result = oneHotEncodedFunction(text)\n",
    "\n",
    "            if len(y_train) == 0:\n",
    "                y_train = np.array([result])\n",
    "            else:\n",
    "                y_train = np.concatenate((y_train, [result]), axis=0)\n",
    "\n",
    "\n",
    "# TEST\n",
    "folder_path_test =  directory_test\n",
    "file_list_test = os.listdir(folder_path_test)\n",
    "y_test= []\n",
    "for file_name in file_list_test:\n",
    "    if file_name.endswith(\".txt\"):\n",
    "        file_path = os.path.join(folder_path_test, file_name)\n",
    "        with open(file_path, 'r', encoding='utf-8') as f:\n",
    "            text = f.read()\n",
    "            result = oneHotEncodedFunction(text)\n",
    "\n",
    "            if len(y_test) == 0:\n",
    "                y_test = np.array([result])\n",
    "            else:\n",
    "                y_test = np.concatenate((y_test, [result]), axis=0)\n",
    "\n",
    "\n",
    "print(y_train.shape)\n",
    "print(y_test.shape)"
   ]
  },
  {
   "cell_type": "code",
   "execution_count": null,
   "metadata": {
    "colab": {
     "base_uri": "https://localhost:8080/"
    },
    "id": "Cn98EjXx-yjY",
    "outputId": "0209eb6d-bd0e-4300-af8b-fbb6efdc1cfc"
   },
   "outputs": [],
   "source": [
    "# LSTM Modeli\n",
    "\n",
    "input_shape = (max_sequence_length, max_word_length)\n",
    "input_layer = Input(shape=(max_sequence_length,max_word_length))\n",
    "print(input_layer.shape)\n"
   ]
  },
  {
   "cell_type": "code",
   "execution_count": null,
   "metadata": {
    "colab": {
     "base_uri": "https://localhost:8080/"
    },
    "id": "mdptHORKERmx",
    "outputId": "72270e50-638f-4f63-f838-689bd1a941c6"
   },
   "outputs": [],
   "source": [
    "char_embedding = Embedding(input_dim=vocab_len, output_dim=embedding_size)(input_layer)\n",
    "print(char_embedding.shape)"
   ]
  },
  {
   "cell_type": "code",
   "execution_count": null,
   "metadata": {
    "colab": {
     "base_uri": "https://localhost:8080/"
    },
    "id": "W7FoMTlUES5H",
    "outputId": "fff0bfb8-4eb5-434c-8ad9-e81d08007e99"
   },
   "outputs": [],
   "source": [
    "reshaped_embedding = tensorflow.reshape(char_embedding, (-1, max_word_length, embedding_size))\n",
    "print(reshaped_embedding.shape)"
   ]
  },
  {
   "cell_type": "code",
   "execution_count": null,
   "metadata": {
    "colab": {
     "base_uri": "https://localhost:8080/"
    },
    "id": "j7icA8cmETxy",
    "outputId": "586c56d5-e82a-45b6-e2c8-075fa3387bc8"
   },
   "outputs": [],
   "source": [
    "lstm_units = 64\n",
    "char_lstm, forward_h, forward_c, backward_h, backward_c = Bidirectional(LSTM(units=lstm_units, return_sequences=True, return_state=True))(reshaped_embedding)\n",
    "print(char_lstm)\n",
    "\n",
    "char_lstm2, forward_h2, forward_c2, backward_h2, backward_c2 = Bidirectional(LSTM(units=lstm_units, return_sequences=True, return_state=True))(\n",
    "    char_lstm, initial_state=[forward_h, forward_c, backward_h, backward_c])\n",
    "\n",
    "state_h = Concatenate()([forward_h2, backward_h2])\n",
    "state_c = Concatenate()([forward_c2, backward_c2])\n",
    "\n",
    "print(char_lstm2)"
   ]
  },
  {
   "cell_type": "code",
   "execution_count": null,
   "metadata": {
    "colab": {
     "base_uri": "https://localhost:8080/"
    },
    "id": "YGtn72ZpEUh4",
    "outputId": "c9619696-5622-47f6-a121-2ef16f66086a"
   },
   "outputs": [],
   "source": [
    "reshaped = tensorflow.reshape(char_lstm2, (-1,max_sequence_length, lstm_units * 2))\n",
    "print(reshaped.shape)"
   ]
  },
  {
   "cell_type": "code",
   "execution_count": null,
   "metadata": {
    "colab": {
     "base_uri": "https://localhost:8080/"
    },
    "id": "BcEFTZt2EVUr",
    "outputId": "d6b5882e-16bc-42a7-a70b-4fbb2ef0ea54"
   },
   "outputs": [],
   "source": [
    "word_lstm1, forward_h, forward_c, backward_h, backward_c = Bidirectional(LSTM(units=lstm_units, return_sequences=True, return_state=True))(reshaped)\n",
    "print(word_lstm1)\n",
    "\n",
    "word_lstm2, forward_h2, forward_c2, backward_h2, backward_c2 = Bidirectional(LSTM(units=lstm_units, return_sequences=True, return_state=True))(word_lstm1, initial_state=[forward_h, forward_c, backward_h, backward_c])\n",
    "print(word_lstm2)\n",
    "\n",
    "state_h = Concatenate()([forward_h2, backward_h2])\n",
    "state_c = Concatenate()([forward_c2, backward_c2])"
   ]
  },
  {
   "cell_type": "code",
   "execution_count": null,
   "metadata": {
    "colab": {
     "base_uri": "https://localhost:8080/"
    },
    "id": "3x_Rxbx0EWXU",
    "outputId": "3bf8b225-10d5-4d96-f816-8a6fd0efd758"
   },
   "outputs": [],
   "source": [
    "classification_output = Dense(units=num_classes, activation='softmax')(word_lstm2)\n",
    "print(word_lstm2)"
   ]
  },
  {
   "cell_type": "code",
   "execution_count": null,
   "metadata": {
    "id": "-uURGeTIEXGw"
   },
   "outputs": [],
   "source": [
    "model = Model(inputs=input_layer, outputs=classification_output)"
   ]
  },
  {
   "cell_type": "code",
   "execution_count": null,
   "metadata": {
    "colab": {
     "base_uri": "https://localhost:8080/"
    },
    "id": "VZyQlIvNEYC7",
    "outputId": "ecae5f3d-b295-4f1d-85a8-50f8f48f6870"
   },
   "outputs": [],
   "source": [
    "#model.compile(optimizer='adam', loss='categorical_crossentropy', metrics=['accuracy'])\n",
    "\n",
    "#model.summary()"
   ]
  },
  {
   "cell_type": "code",
   "execution_count": null,
   "metadata": {},
   "outputs": [],
   "source": [
    "from tensorflow.keras.callbacks import ModelCheckpoint\n",
    "import tensorflow.keras as keras\n",
    "\n",
    "checkpoint = ModelCheckpoint('bi_best_model.keras', monitor='val_accuracy', save_best_only=True)\n",
    "\n",
    "opt = keras.optimizers.Adam(learning_rate=0.0001)\n",
    "\n",
    "model.compile(optimizer=opt, loss='categorical_crossentropy', metrics=['accuracy'])\n",
    "\n",
    "model.summary()\n",
    "\n"
   ]
  },
  {
   "cell_type": "code",
   "execution_count": null,
   "metadata": {
    "colab": {
     "base_uri": "https://localhost:8080/"
    },
    "id": "X1GwVzzxEZCh",
    "outputId": "1e1b9b95-266a-46f6-9662-ea7cb81a328b"
   },
   "outputs": [],
   "source": [
    "\n",
    "model.fit(x_train, y_train, epochs=10, batch_size=16, validation_data=(x_test, y_test), callbacks=[ checkpoint])"
   ]
  },
  {
   "cell_type": "code",
   "execution_count": null,
   "metadata": {},
   "outputs": [],
   "source": [
    "model.save(\"bi_model.keras\")"
   ]
  },
  {
   "cell_type": "code",
   "execution_count": null,
   "metadata": {},
   "outputs": [],
   "source": [
    "#MODELİ ÇALIŞTIR\n",
    "def model_run(directory):\n",
    "    all_texts = []\n",
    "\n",
    "    for filename in os.listdir(directory):\n",
    "        if filename.endswith('.txt'):\n",
    "            file_path = os.path.join(directory, filename)\n",
    "            with open(file_path, 'r', encoding='utf-8') as file:\n",
    "                content = file.read()\n",
    "                txt_data = content.split()\n",
    "                all_texts.append(txt_data)\n",
    "                \n",
    "    #TOKENIZER YÜKLE\n",
    "    with open('tokenizer.pickle', 'rb') as handle:\n",
    "        tokenizer_model = pickle.load(handle)     \n",
    "    print(tokenizer_model.word_index)        \n",
    "\n",
    "    all_sequences=[]\n",
    "    for i in range(len(all_texts)):\n",
    "        all_sequences.append(tokenizer_model.texts_to_sequences(all_texts[i]))\n",
    "        \n",
    "    max_word_length,trunc_type,padding_type = 20,'post','post'\n",
    "\n",
    "    all_padded_sequences=[]\n",
    "    for i in range(len(all_sequences)):\n",
    "        padded_sequence = pad_sequences(all_sequences[i], maxlen=max_word_length, padding=padding_type, truncating=trunc_type)\n",
    "        all_padded_sequences.append(padded_sequence)\n",
    "\n",
    "    padded_arrays = []\n",
    "    for arr in all_padded_sequences:\n",
    "        pad_width = ((0, max_sequence_length - len(arr)), (0, 0))\n",
    "        padded_arr = np.pad(arr, pad_width, mode='constant', constant_values=0)\n",
    "        padded_arrays.append(padded_arr)\n",
    "\n",
    "    xtrain=np.array(padded_arrays)\n",
    "    model = tensorflow.keras.models.load_model(model_path)\n",
    "\n",
    "    prediction=model.predict(xtrain)\n",
    "    print(prediction.shape)\n",
    "    #------------------------------------------------------------\n",
    "    label_list = [\"Pad\", \"Others\", \"B_Comp\", \"I_Comp\", \"B_Date\", \"I_Date\", \"B_Time\", \"I_Time\", \"B_Receipt\", \"I_Receipt\", \"B_Tax\", \"I_Tax\", \"B_Amount\", \"I_Amount\"]\n",
    "\n",
    "    #deneme yapılacak fişin konumu\n",
    "    with open(\"./deneme-veriler/deneme-veri.txt\", \"r\", encoding=\"utf-8\") as file:\n",
    "        words = file.read().split()\n",
    "    \n",
    "    predicted_labels = np.argmax(prediction, axis=-1)\n",
    "    print(predicted_labels)\n",
    "    \n",
    "    #klasördeki ilk fişi temsil eder\n",
    "    fis_1=predicted_labels[0]\n",
    "\n",
    "    truncated_values = fis_1[:len(words)]#uzun olan diziyi kısalt ve iki dizi boyutunu eşle\n",
    "    my_map = dict(zip(words, truncated_values))#kelimelere ve karşılarına predictionları 0 1 2 formatında maple\n",
    "\n",
    "    result_map = {}\n",
    "    for key, value in my_map.items():#anlamlı gözükmesi için 0 1 2 yerine etiket isimleri olacak şekilde maple\n",
    "        index = min(value, len(label_list) - 1)\n",
    "        label = label_list[index]\n",
    "        result_map[key] = label\n",
    "\n",
    "    print(result_map)\n",
    "    for key, value in result_map.items():\n",
    "        print(f'{key}: {value}')\n",
    "        "
   ]
  },
  {
   "cell_type": "code",
   "execution_count": null,
   "metadata": {
    "id": "un1sqF0VGhlQ"
   },
   "outputs": [],
   "source": [
    "\n",
    "#model_test_path içinde test edilecek veriler txt halde bulunmalıdır\n",
    "model_run(model_test_path)"
   ]
  }
 ],
 "metadata": {
  "accelerator": "GPU",
  "colab": {
   "gpuType": "T4",
   "provenance": []
  },
  "kernelspec": {
   "display_name": "Python 3 (ipykernel)",
   "language": "python",
   "name": "python3"
  },
  "language_info": {
   "codemirror_mode": {
    "name": "ipython",
    "version": 3
   },
   "file_extension": ".py",
   "mimetype": "text/x-python",
   "name": "python",
   "nbconvert_exporter": "python",
   "pygments_lexer": "ipython3",
   "version": "3.7.16"
  }
 },
 "nbformat": 4,
 "nbformat_minor": 4
}
