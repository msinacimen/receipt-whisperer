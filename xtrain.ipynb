{
 "cells": [
  {
   "cell_type": "code",
   "execution_count": 1,
   "id": "745ec0ed",
   "metadata": {},
   "outputs": [],
   "source": [
    "import tensorflow \n",
    "from tensorflow.keras.layers import Reshape\n",
    "from keras.layers import Input, Embedding, Reshape, LSTM, Dense, Flatten\n",
    "from keras.models import Model\n",
    "import os\n",
    "import numpy as np\n",
    "from tensorflow.keras.preprocessing.text import Tokenizer\n",
    "from tensorflow.keras.preprocessing.sequence import pad_sequences\n",
    "import re"
   ]
  },
  {
   "cell_type": "code",
   "execution_count": 2,
   "id": "698f314c",
   "metadata": {},
   "outputs": [],
   "source": [
    "batch_size = 16\n",
    "max_sequence_length = 384\n",
    "max_word_length = 20\n",
    "embedding_size = 128\n",
    "lstm_units = 256\n",
    "num_classes = 14\n",
    "directory_train='.'\n",
    "directory_test='.'\n",
    "\n"
   ]
  },
  {
   "cell_type": "code",
   "execution_count": 3,
   "id": "93b940d7",
   "metadata": {},
   "outputs": [
    {
     "name": "stdout",
     "output_type": "stream",
     "text": [
      "(547, 384, 20)\n",
      "(547, 384, 20)\n"
     ]
    }
   ],
   "source": [
    "def process_text_files(directory):\n",
    "    all_texts = []\n",
    "    all_texts_extend = []\n",
    "    \n",
    "    # Iterate over all files in the directory\n",
    "    for filename in os.listdir(directory):\n",
    "        if filename.endswith('.txt'):\n",
    "            file_path = os.path.join(directory, filename)\n",
    "            with open(file_path, 'r', encoding='utf-8') as file:\n",
    "                content = file.read()\n",
    "                content = re.sub(r'<start_\".*?\">', '', content)\n",
    "                content = re.sub(r'<end_\".*?\">', '', content)\n",
    "                txt_data = content.split()\n",
    "                all_texts.append(txt_data)\n",
    "                all_texts_extend.extend(txt_data)\n",
    "    \n",
    "    tokenizer = Tokenizer(char_level=True, lower=False)\n",
    "    tokenizer.fit_on_texts(all_texts_extend)\n",
    "    \n",
    "    all_sequences=[]\n",
    "    for i in range(len(all_texts)):\n",
    "        all_sequences.append(tokenizer.texts_to_sequences(all_texts[i]))\n",
    "        \n",
    "    max_word_length = 20\n",
    "    trunc_type = 'post'\n",
    "    padding_type = 'post'\n",
    "    \n",
    "    # Pad each word sequence to the length of the longest word\n",
    "    all_padded_sequences=[]\n",
    "    for i in range(len(all_sequences)):\n",
    "        padded_sequence = pad_sequences(all_sequences[i], maxlen=max_word_length, padding=padding_type, truncating=trunc_type)\n",
    "        all_padded_sequences.append(padded_sequence)\n",
    "    \n",
    "    return all_padded_sequences, tokenizer.word_index\n",
    "\n",
    "\n",
    "#   TRAIN\n",
    "directory_path = directory_train\n",
    "padded_sequences, word_index = process_text_files(directory_path)\n",
    "padded_arrays = []\n",
    "for arr in padded_sequences:\n",
    "    pad_width = ((0, max_sequence_length - len(arr)), (0, 0))\n",
    "    padded_arr = np.pad(arr, pad_width, mode='constant', constant_values=0)\n",
    "    padded_arrays.append(padded_arr)\n",
    "\n",
    "#  TEST\n",
    "directory_path_test = directory_test\n",
    "padded_sequences_test, word_index_test = process_text_files(directory_path_test)\n",
    "padded_arrays_test = []\n",
    "for arr in padded_sequences_test:\n",
    "    pad_width = ((0, max_sequence_length - len(arr)), (0, 0))\n",
    "    padded_arr = np.pad(arr, pad_width, mode='constant', constant_values=0)\n",
    "    padded_arrays_test.append(padded_arr)\n",
    "\n",
    "\n",
    "np.set_printoptions(threshold=np.inf)\n",
    "\n",
    "#son array'i numpy array'ine çevir\n",
    "x_train=np.array(padded_arrays)\n",
    "x_test=np.array(padded_arrays_test)\n",
    "\n",
    "print(x_train.shape)\n",
    "print(x_test.shape)\n",
    "\n",
    "np.set_printoptions(threshold=1000)"
   ]
  },
  {
   "cell_type": "code",
   "execution_count": 4,
   "id": "cfc9cbff",
   "metadata": {},
   "outputs": [
    {
     "name": "stdout",
     "output_type": "stream",
     "text": [
      "(547, 384, 14)\n",
      "(547, 384, 14)\n"
     ]
    }
   ],
   "source": [
    "import os\n",
    "import numpy as np\n",
    "\n",
    "global wordsList,wordsIndextList\n",
    "\n",
    "wordsList = []\n",
    "wordsIndextList = []\n",
    "max_sequence_length = 384\n",
    "\n",
    "\n",
    "label_list = [\"<start_\\\"company_name\\\">\",\n",
    "              \"<end_\\\"company_name\\\">\",\n",
    "                  \"<start_\\\"date\\\">\",\n",
    "                  \"<end_\\\"date\\\">\",\n",
    "                  \"<start_\\\"time\\\">\",\n",
    "                  \"<end_\\\"time\\\">\",\n",
    "                  \"<start_\\\"receipt_number\\\">\",\n",
    "                  \"<end_\\\"receipt_number\\\">\",\n",
    "                  \"<start_\\\"tax\\\">\",\n",
    "                  \"<end_\\\"tax\\\">\",\n",
    "                  \"<start_\\\"amount\\\">\",\n",
    "                  \"<end_\\\"amount\\\">\"]\n",
    "\n",
    "label_list2= [\"Pad\",\"Others\",\"B_Comp\",\"l_Comp\",\"B_Date\",\"l_Date\",\"B_Time\",\"l_Time\",\n",
    "                  \"B_Receipt\",\"l_Receipt\",\"B_Tax\",\"l_Tax\",\"B_Amount\",\"l_Amount\"]\n",
    "\n",
    " \n",
    "\n",
    "def one_hot_encode_index_list():\n",
    "    oneHotEncodedList = []\n",
    "    unique_labels_len = len(sorted(set(label_list2)))\n",
    "    for i in wordsIndextList:\n",
    "        bitlist = list(0 for i in range(unique_labels_len))\n",
    "        bitlist[i] = 1\n",
    "        oneHotEncodedList.append(bitlist)\n",
    "\n",
    "    for i in  range(max_sequence_length-len(oneHotEncodedList)):\n",
    "        oneHotEncodedList.append([1,0,0,0,0,0,0,0,0,0,0,0,0,0])\n",
    "    return oneHotEncodedList\n",
    "\n",
    "\n",
    "def splitfunction(text:str):\n",
    "    global wordsList,wordsIndextList\n",
    "    wordsList = []\n",
    "    wordsIndextList = []\n",
    "    words = text.split()\n",
    "    for word in words:\n",
    "        wordsList.append(word)\n",
    "        wordsIndextList.append(1)\n",
    "\n",
    "\n",
    "\n",
    "def indexAssignment(tag,last):\n",
    "    if(tag==None):\n",
    "        return None\n",
    "    index = label_list.index(tag)+2\n",
    "    if(last == \"l\"):\n",
    "       index +=1\n",
    "    return index\n",
    "\n",
    "\n",
    "def checkTag(word:str):\n",
    "    for tag in label_list:\n",
    "        index = word.find(tag)\n",
    "        if index != -1:\n",
    "            return tag    \n",
    "    return None\n",
    "\n",
    "\n",
    "\n",
    "def tagingWords():\n",
    "    control = None\n",
    "    counter = 0\n",
    "    for word in wordsList:\n",
    "        tag = checkTag(word)\n",
    "        if tag != None:\n",
    "            if(word.find(\"<start_\") != -1):\n",
    "                control = tag\n",
    "            if(word.find(\"<start_\") != -1 and word.find(\"<end_\") == -1):\n",
    "                wordsIndextList[counter] = indexAssignment(tag,\"B\")\n",
    "                counter+=1\n",
    "            elif(word.find(\"<start_\") != -1 and word.find(\"<end_\") != -1):\n",
    "                wordsIndextList[counter] = indexAssignment(tag,\"B\")\n",
    "                counter+=1\n",
    "            else:\n",
    "                wordsIndextList[counter] = indexAssignment(tag,\"B\")\n",
    "                counter+=1\n",
    "            if(word.find(\"<end_\") != -1):\n",
    "                control = None\n",
    "        elif control !=None:\n",
    "            wordsIndextList[counter] = indexAssignment(control,\"l\")\n",
    "            counter+=1\n",
    "        else:\n",
    "            counter+=1  \n",
    "\n",
    "\n",
    "def oneHotEncodedFunction(texts):    \n",
    "    splitfunction(texts)\n",
    "    tagingWords()\n",
    "    return np.array(one_hot_encode_index_list())\n",
    "\n",
    "\n",
    "\n",
    "# TRAIN\n",
    "folder_path_train =  directory_train\n",
    "file_list_train = os.listdir(folder_path_train)\n",
    "y_train= []\n",
    "for file_name in file_list_train:\n",
    "    if file_name.endswith(\".txt\"):\n",
    "        file_path = os.path.join(folder_path_train, file_name)\n",
    "        with open(file_path, 'r', encoding='utf-8') as f:\n",
    "            text = f.read()\n",
    "            result = oneHotEncodedFunction(text)\n",
    "            \n",
    "            if len(y_train) == 0:\n",
    "                y_train = np.array([result])\n",
    "            else:\n",
    "                y_train = np.concatenate((y_train, [result]), axis=0)\n",
    "\n",
    "\n",
    "# TEST\n",
    "folder_path_test =  directory_test\n",
    "file_list_test = os.listdir(folder_path_test)\n",
    "y_test= []\n",
    "for file_name in file_list_test:\n",
    "    if file_name.endswith(\".txt\"):\n",
    "        file_path = os.path.join(folder_path_test, file_name)\n",
    "        with open(file_path, 'r', encoding='utf-8') as f:\n",
    "            text = f.read()\n",
    "            result = oneHotEncodedFunction(text)\n",
    "            \n",
    "            if len(y_test) == 0:\n",
    "                y_test = np.array([result])\n",
    "            else:\n",
    "                y_test = np.concatenate((y_test, [result]), axis=0)\n",
    "\n",
    "                \n",
    "print(y_train.shape)\n",
    "print(y_test.shape)"
   ]
  },
  {
   "cell_type": "code",
   "execution_count": 5,
   "id": "7a66c5a5",
   "metadata": {},
   "outputs": [
    {
     "name": "stdout",
     "output_type": "stream",
     "text": [
      "(16, 384, 20)\n"
     ]
    }
   ],
   "source": [
    "# LSTM Modeli\n",
    "\n",
    "input_shape = (max_sequence_length, max_word_length)\n",
    "input_layer = Input(shape=(max_sequence_length,max_word_length), batch_size=16)\n",
    "print(input_layer.shape)\n"
   ]
  },
  {
   "cell_type": "code",
   "execution_count": 6,
   "id": "f3990228",
   "metadata": {},
   "outputs": [
    {
     "name": "stdout",
     "output_type": "stream",
     "text": [
      "(16, 384, 20, 128)\n"
     ]
    },
    {
     "name": "stderr",
     "output_type": "stream",
     "text": [
      "2024-03-13 18:40:10.815204: I metal_plugin/src/device/metal_device.cc:1154] Metal device set to: Apple M1\n",
      "2024-03-13 18:40:10.815236: I metal_plugin/src/device/metal_device.cc:296] systemMemory: 8.00 GB\n",
      "2024-03-13 18:40:10.815247: I metal_plugin/src/device/metal_device.cc:313] maxCacheSize: 2.67 GB\n",
      "2024-03-13 18:40:10.815840: I tensorflow/core/common_runtime/pluggable_device/pluggable_device_factory.cc:303] Could not identify NUMA node of platform GPU ID 0, defaulting to 0. Your kernel may not have been built with NUMA support.\n",
      "2024-03-13 18:40:10.816137: I tensorflow/core/common_runtime/pluggable_device/pluggable_device_factory.cc:269] Created TensorFlow device (/job:localhost/replica:0/task:0/device:GPU:0 with 0 MB memory) -> physical PluggableDevice (device: 0, name: METAL, pci bus id: <undefined>)\n"
     ]
    }
   ],
   "source": [
    "char_embedding = Embedding(input_dim=max_word_length, output_dim=embedding_size)(input_layer)\n",
    "print(char_embedding.shape)\n"
   ]
  },
  {
   "cell_type": "code",
   "execution_count": 7,
   "id": "2d0cc83e",
   "metadata": {},
   "outputs": [
    {
     "name": "stdout",
     "output_type": "stream",
     "text": [
      "(6144, 20, 128)\n"
     ]
    }
   ],
   "source": [
    "reshaped_embedding = tensorflow.reshape(char_embedding, (batch_size * max_sequence_length, max_word_length, embedding_size))\n",
    "print(reshaped_embedding.shape)"
   ]
  },
  {
   "cell_type": "code",
   "execution_count": 8,
   "id": "8bfb6fb0",
   "metadata": {},
   "outputs": [
    {
     "name": "stdout",
     "output_type": "stream",
     "text": [
      "KerasTensor(type_spec=TensorSpec(shape=(6144, 20, 256), dtype=tf.float32, name=None), name='lstm/PartitionedCall:1', description=\"created by layer 'lstm'\")\n",
      "KerasTensor(type_spec=TensorSpec(shape=(6144, 20, 256), dtype=tf.float32, name=None), name='lstm_1/PartitionedCall:1', description=\"created by layer 'lstm_1'\")\n"
     ]
    }
   ],
   "source": [
    "char_lstm, state_h, state_c = LSTM(units=lstm_units, return_sequences=True, return_state=True)(reshaped_embedding)\n",
    "print(char_lstm)\n",
    "\n",
    "char_lstm2, state_h, state_c = LSTM(units=lstm_units, return_sequences=True, return_state=True)(char_lstm, initial_state=[state_h, state_c])\n",
    "print(char_lstm2)"
   ]
  },
  {
   "cell_type": "code",
   "execution_count": 9,
   "id": "1c96a08e",
   "metadata": {},
   "outputs": [
    {
     "name": "stdout",
     "output_type": "stream",
     "text": [
      "(16, 384, 256)\n"
     ]
    }
   ],
   "source": [
    "reshaped = tensorflow.reshape(state_h, (batch_size,max_sequence_length, state_h.shape[-1]))\n",
    "print(reshaped.shape)"
   ]
  },
  {
   "cell_type": "code",
   "execution_count": 10,
   "id": "5f01ccde",
   "metadata": {},
   "outputs": [
    {
     "name": "stdout",
     "output_type": "stream",
     "text": [
      "KerasTensor(type_spec=TensorSpec(shape=(16, 384, 256), dtype=tf.float32, name=None), name='lstm_2/PartitionedCall:1', description=\"created by layer 'lstm_2'\")\n",
      "KerasTensor(type_spec=TensorSpec(shape=(16, 384, 256), dtype=tf.float32, name=None), name='lstm_3/PartitionedCall:1', description=\"created by layer 'lstm_3'\")\n"
     ]
    }
   ],
   "source": [
    "word_lstm1, state_h, state_c = LSTM(units=lstm_units, return_sequences=True, return_state=True)(reshaped)\n",
    "print(word_lstm1)\n",
    "word_lstm2, state_h, state_c = LSTM(units=lstm_units, return_sequences=True, return_state=True)(word_lstm1, initial_state=[state_h, state_c])\n",
    "print(word_lstm2)"
   ]
  },
  {
   "cell_type": "code",
   "execution_count": 11,
   "id": "9c2cc683",
   "metadata": {},
   "outputs": [
    {
     "name": "stdout",
     "output_type": "stream",
     "text": [
      "KerasTensor(type_spec=TensorSpec(shape=(16, 384, 256), dtype=tf.float32, name=None), name='lstm_3/PartitionedCall:1', description=\"created by layer 'lstm_3'\")\n"
     ]
    }
   ],
   "source": [
    "classification_output = Dense(units=num_classes, activation='softmax')(word_lstm2)\n",
    "print(word_lstm2)"
   ]
  },
  {
   "cell_type": "code",
   "execution_count": 12,
   "id": "d188365b",
   "metadata": {},
   "outputs": [],
   "source": [
    "model = Model(inputs=input_layer, outputs=[classification_output, char_lstm])\n"
   ]
  },
  {
   "cell_type": "code",
   "execution_count": 13,
   "id": "86af8a62",
   "metadata": {},
   "outputs": [
    {
     "name": "stdout",
     "output_type": "stream",
     "text": [
      "Model: \"model\"\n",
      "__________________________________________________________________________________________________\n",
      " Layer (type)                Output Shape                 Param #   Connected to                  \n",
      "==================================================================================================\n",
      " input_1 (InputLayer)        [(16, 384, 20)]              0         []                            \n",
      "                                                                                                  \n",
      " embedding (Embedding)       (16, 384, 20, 128)           2560      ['input_1[0][0]']             \n",
      "                                                                                                  \n",
      " tf.reshape (TFOpLambda)     (6144, 20, 128)              0         ['embedding[0][0]']           \n",
      "                                                                                                  \n",
      " lstm (LSTM)                 [(6144, 20, 256),            394240    ['tf.reshape[0][0]']          \n",
      "                              (6144, 256),                                                        \n",
      "                              (6144, 256)]                                                        \n",
      "                                                                                                  \n",
      " lstm_1 (LSTM)               [(6144, 20, 256),            525312    ['lstm[0][0]',                \n",
      "                              (6144, 256),                           'lstm[0][1]',                \n",
      "                              (6144, 256)]                           'lstm[0][2]']                \n",
      "                                                                                                  \n",
      " tf.reshape_1 (TFOpLambda)   (16, 384, 256)               0         ['lstm_1[0][1]']              \n",
      "                                                                                                  \n",
      " lstm_2 (LSTM)               [(16, 384, 256),             525312    ['tf.reshape_1[0][0]']        \n",
      "                              (16, 256),                                                          \n",
      "                              (16, 256)]                                                          \n",
      "                                                                                                  \n",
      " lstm_3 (LSTM)               [(16, 384, 256),             525312    ['lstm_2[0][0]',              \n",
      "                              (16, 256),                             'lstm_2[0][1]',              \n",
      "                              (16, 256)]                             'lstm_2[0][2]']              \n",
      "                                                                                                  \n",
      " dense (Dense)               (16, 384, 14)                3598      ['lstm_3[0][0]']              \n",
      "                                                                                                  \n",
      "==================================================================================================\n",
      "Total params: 1976334 (7.54 MB)\n",
      "Trainable params: 1976334 (7.54 MB)\n",
      "Non-trainable params: 0 (0.00 Byte)\n",
      "__________________________________________________________________________________________________\n"
     ]
    }
   ],
   "source": [
    "model.compile(optimizer='adam', loss='categorical_crossentropy', metrics=['accuracy'])\n",
    "\n",
    "model.summary()"
   ]
  },
  {
   "cell_type": "code",
   "execution_count": 14,
   "id": "e10bd6ea-f0c9-4830-965d-da3ca8c0ad43",
   "metadata": {},
   "outputs": [
    {
     "name": "stdout",
     "output_type": "stream",
     "text": [
      "Epoch 1/10\n"
     ]
    },
    {
     "ename": "ValueError",
     "evalue": "in user code:\n\n    File \"/Users/talhaunal/tensorflow-test/env/lib/python3.8/site-packages/keras/src/engine/training.py\", line 1338, in train_function  *\n        return step_function(self, iterator)\n    File \"/Users/talhaunal/tensorflow-test/env/lib/python3.8/site-packages/keras/src/engine/training.py\", line 1322, in step_function  **\n        outputs = model.distribute_strategy.run(run_step, args=(data,))\n    File \"/Users/talhaunal/tensorflow-test/env/lib/python3.8/site-packages/keras/src/engine/training.py\", line 1303, in run_step  **\n        outputs = model.train_step(data)\n    File \"/Users/talhaunal/tensorflow-test/env/lib/python3.8/site-packages/keras/src/engine/training.py\", line 1081, in train_step\n        loss = self.compute_loss(x, y, y_pred, sample_weight)\n    File \"/Users/talhaunal/tensorflow-test/env/lib/python3.8/site-packages/keras/src/engine/training.py\", line 1139, in compute_loss\n        return self.compiled_loss(\n    File \"/Users/talhaunal/tensorflow-test/env/lib/python3.8/site-packages/keras/src/engine/compile_utils.py\", line 265, in __call__\n        loss_value = loss_obj(y_t, y_p, sample_weight=sw)\n    File \"/Users/talhaunal/tensorflow-test/env/lib/python3.8/site-packages/keras/src/losses.py\", line 142, in __call__\n        losses = call_fn(y_true, y_pred)\n    File \"/Users/talhaunal/tensorflow-test/env/lib/python3.8/site-packages/keras/src/losses.py\", line 268, in call  **\n        return ag_fn(y_true, y_pred, **self._fn_kwargs)\n    File \"/Users/talhaunal/tensorflow-test/env/lib/python3.8/site-packages/keras/src/losses.py\", line 2122, in categorical_crossentropy\n        return backend.categorical_crossentropy(\n    File \"/Users/talhaunal/tensorflow-test/env/lib/python3.8/site-packages/keras/src/backend.py\", line 5560, in categorical_crossentropy\n        target.shape.assert_is_compatible_with(output.shape)\n\n    ValueError: Shapes (None, 384, 14) and (6144, 20, 256) are incompatible\n",
     "output_type": "error",
     "traceback": [
      "\u001b[0;31m---------------------------------------------------------------------------\u001b[0m",
      "\u001b[0;31mValueError\u001b[0m                                Traceback (most recent call last)",
      "Cell \u001b[0;32mIn[14], line 1\u001b[0m\n\u001b[0;32m----> 1\u001b[0m \u001b[43mmodel\u001b[49m\u001b[38;5;241;43m.\u001b[39;49m\u001b[43mfit\u001b[49m\u001b[43m(\u001b[49m\u001b[43mx_train\u001b[49m\u001b[43m,\u001b[49m\u001b[43m \u001b[49m\u001b[43my_train\u001b[49m\u001b[43m,\u001b[49m\u001b[43m \u001b[49m\u001b[43mepochs\u001b[49m\u001b[38;5;241;43m=\u001b[39;49m\u001b[38;5;241;43m10\u001b[39;49m\u001b[43m,\u001b[49m\u001b[43mbatch_size\u001b[49m\u001b[38;5;241;43m=\u001b[39;49m\u001b[38;5;241;43m16\u001b[39;49m\u001b[43m,\u001b[49m\u001b[43m \u001b[49m\u001b[43mvalidation_data\u001b[49m\u001b[38;5;241;43m=\u001b[39;49m\u001b[43m(\u001b[49m\u001b[43mx_test\u001b[49m\u001b[43m,\u001b[49m\u001b[43m \u001b[49m\u001b[43my_test\u001b[49m\u001b[43m)\u001b[49m\u001b[43m)\u001b[49m\n",
      "File \u001b[0;32m~/tensorflow-test/env/lib/python3.8/site-packages/keras/src/utils/traceback_utils.py:70\u001b[0m, in \u001b[0;36mfilter_traceback.<locals>.error_handler\u001b[0;34m(*args, **kwargs)\u001b[0m\n\u001b[1;32m     67\u001b[0m     filtered_tb \u001b[38;5;241m=\u001b[39m _process_traceback_frames(e\u001b[38;5;241m.\u001b[39m__traceback__)\n\u001b[1;32m     68\u001b[0m     \u001b[38;5;66;03m# To get the full stack trace, call:\u001b[39;00m\n\u001b[1;32m     69\u001b[0m     \u001b[38;5;66;03m# `tf.debugging.disable_traceback_filtering()`\u001b[39;00m\n\u001b[0;32m---> 70\u001b[0m     \u001b[38;5;28;01mraise\u001b[39;00m e\u001b[38;5;241m.\u001b[39mwith_traceback(filtered_tb) \u001b[38;5;28;01mfrom\u001b[39;00m \u001b[38;5;28;01mNone\u001b[39;00m\n\u001b[1;32m     71\u001b[0m \u001b[38;5;28;01mfinally\u001b[39;00m:\n\u001b[1;32m     72\u001b[0m     \u001b[38;5;28;01mdel\u001b[39;00m filtered_tb\n",
      "File \u001b[0;32m/var/folders/vq/9wy15yrx57d692wfgcz2_lg00000gn/T/__autograph_generated_filesrwmvt5v.py:15\u001b[0m, in \u001b[0;36mouter_factory.<locals>.inner_factory.<locals>.tf__train_function\u001b[0;34m(iterator)\u001b[0m\n\u001b[1;32m     13\u001b[0m \u001b[38;5;28;01mtry\u001b[39;00m:\n\u001b[1;32m     14\u001b[0m     do_return \u001b[38;5;241m=\u001b[39m \u001b[38;5;28;01mTrue\u001b[39;00m\n\u001b[0;32m---> 15\u001b[0m     retval_ \u001b[38;5;241m=\u001b[39m ag__\u001b[38;5;241m.\u001b[39mconverted_call(ag__\u001b[38;5;241m.\u001b[39mld(step_function), (ag__\u001b[38;5;241m.\u001b[39mld(\u001b[38;5;28mself\u001b[39m), ag__\u001b[38;5;241m.\u001b[39mld(iterator)), \u001b[38;5;28;01mNone\u001b[39;00m, fscope)\n\u001b[1;32m     16\u001b[0m \u001b[38;5;28;01mexcept\u001b[39;00m:\n\u001b[1;32m     17\u001b[0m     do_return \u001b[38;5;241m=\u001b[39m \u001b[38;5;28;01mFalse\u001b[39;00m\n",
      "\u001b[0;31mValueError\u001b[0m: in user code:\n\n    File \"/Users/talhaunal/tensorflow-test/env/lib/python3.8/site-packages/keras/src/engine/training.py\", line 1338, in train_function  *\n        return step_function(self, iterator)\n    File \"/Users/talhaunal/tensorflow-test/env/lib/python3.8/site-packages/keras/src/engine/training.py\", line 1322, in step_function  **\n        outputs = model.distribute_strategy.run(run_step, args=(data,))\n    File \"/Users/talhaunal/tensorflow-test/env/lib/python3.8/site-packages/keras/src/engine/training.py\", line 1303, in run_step  **\n        outputs = model.train_step(data)\n    File \"/Users/talhaunal/tensorflow-test/env/lib/python3.8/site-packages/keras/src/engine/training.py\", line 1081, in train_step\n        loss = self.compute_loss(x, y, y_pred, sample_weight)\n    File \"/Users/talhaunal/tensorflow-test/env/lib/python3.8/site-packages/keras/src/engine/training.py\", line 1139, in compute_loss\n        return self.compiled_loss(\n    File \"/Users/talhaunal/tensorflow-test/env/lib/python3.8/site-packages/keras/src/engine/compile_utils.py\", line 265, in __call__\n        loss_value = loss_obj(y_t, y_p, sample_weight=sw)\n    File \"/Users/talhaunal/tensorflow-test/env/lib/python3.8/site-packages/keras/src/losses.py\", line 142, in __call__\n        losses = call_fn(y_true, y_pred)\n    File \"/Users/talhaunal/tensorflow-test/env/lib/python3.8/site-packages/keras/src/losses.py\", line 268, in call  **\n        return ag_fn(y_true, y_pred, **self._fn_kwargs)\n    File \"/Users/talhaunal/tensorflow-test/env/lib/python3.8/site-packages/keras/src/losses.py\", line 2122, in categorical_crossentropy\n        return backend.categorical_crossentropy(\n    File \"/Users/talhaunal/tensorflow-test/env/lib/python3.8/site-packages/keras/src/backend.py\", line 5560, in categorical_crossentropy\n        target.shape.assert_is_compatible_with(output.shape)\n\n    ValueError: Shapes (None, 384, 14) and (6144, 20, 256) are incompatible\n"
     ]
    }
   ],
   "source": [
    "model.fit(x_train, y_train, epochs=10,batch_size=16, validation_data=(x_test, y_test))"
   ]
  },
  {
   "cell_type": "code",
   "execution_count": null,
   "id": "490222b7-588f-42c9-87c3-42da10127314",
   "metadata": {},
   "outputs": [],
   "source": []
  },
  {
   "cell_type": "code",
   "execution_count": null,
   "id": "309af160-8adf-4674-b5b0-3864e7f7cc98",
   "metadata": {},
   "outputs": [],
   "source": []
  }
 ],
 "metadata": {
  "kernelspec": {
   "display_name": "Python 3 (ipykernel)",
   "language": "python",
   "name": "python3"
  },
  "language_info": {
   "codemirror_mode": {
    "name": "ipython",
    "version": 3
   },
   "file_extension": ".py",
   "mimetype": "text/x-python",
   "name": "python",
   "nbconvert_exporter": "python",
   "pygments_lexer": "ipython3",
   "version": "3.8.18"
  }
 },
 "nbformat": 4,
 "nbformat_minor": 5
}
