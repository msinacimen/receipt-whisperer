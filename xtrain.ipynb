{
 "cells": [
  {
   "cell_type": "code",
   "execution_count": 47,
   "metadata": {
    "colab": {
     "base_uri": "https://localhost:8080/"
    },
    "id": "g0lzPVtAkK-L",
    "outputId": "7b8e5a07-2801-463d-f371-4a9f80709473"
   },
   "outputs": [],
   "source": [
    "import tensorflow\n",
    "from tensorflow.keras.layers import Reshape\n",
    "from keras.layers import Input, Embedding, Reshape, LSTM, Dense, Flatten\n",
    "from keras.models import Model\n",
    "import os\n",
    "import numpy as np\n",
    "from tensorflow.keras.preprocessing.text import Tokenizer\n",
    "from tensorflow.keras.preprocessing.sequence import pad_sequences\n",
    "import re\n",
    "import keras\n",
    "import pickle\n"
   ]
  },
  {
   "cell_type": "code",
   "execution_count": 48,
   "metadata": {
    "id": "dPoU8viTkYAK"
   },
   "outputs": [],
   "source": [
    "batch_size = 16\n",
    "max_sequence_length = 384\n",
    "max_word_length = 20\n",
    "embedding_size = 128\n",
    "lstm_units = 256\n",
    "num_classes = 14\n",
    "\n",
    "directory_train='/Users/talhaunal/Downloads/OCR_dataset/training-data'\n",
    "directory_test='/Users/talhaunal/Downloads/OCR_dataset/testing-data'\n",
    "directory_all='/Users/talhaunal/Downloads/OCR_dataset/all-data'\n",
    "model_path='/Users/talhaunal/Downloads/OCR_dataset/model-son.h5'#modelin konumu\n",
    "model_test_path='/Users/talhaunal/Downloads/OCR_dataset/deneme-veriler'#modelin testi için kullanılacak verinin konumu"
   ]
  },
  {
   "cell_type": "code",
   "execution_count": 57,
   "metadata": {
    "id": "EoSXRADHCYxw"
   },
   "outputs": [],
   "source": [
    "train_test_texts=[]\n",
    "\n",
    "for filename in os.listdir(directory_all):\n",
    "    if filename.endswith('.txt'):\n",
    "        file_path = os.path.join(directory_all, filename)\n",
    "        with open(file_path, 'r', encoding='utf-8') as file:\n",
    "            content = file.read()\n",
    "            content = re.sub(r'<start_\".*?\">', '', content)\n",
    "            content = re.sub(r'<end_\".*?\">', '', content)\n",
    "            txt_data = content.split()\n",
    "            train_test_texts.extend(txt_data)\n",
    "\n",
    "tokenizer = Tokenizer(char_level=True, lower=False)\n",
    "tokenizer.fit_on_texts(train_test_texts)\n",
    "\n"
   ]
  },
  {
   "cell_type": "code",
   "execution_count": 58,
   "metadata": {},
   "outputs": [
    {
     "name": "stdout",
     "output_type": "stream",
     "text": [
      "{'0': 1, 'A': 2, '1': 3, 'E': 4, 'T': 5, 'I': 6, '2': 7, 'R': 8, 'N': 9, 'L': 10, 'K': 11, '*': 12, 'S': 13, 'O': 14, 'M': 15, '5': 16, ':': 17, '.': 18, '3': 19, '8': 20, '4': 21, '9': 22, 'D': 23, '6': 24, 'U': 25, 'İ': 26, '7': 27, ',': 28, 'B': 29, 'C': 30, 'Y': 31, 'P': 32, 'V': 33, 'e': 34, 'a': 35, 'i': 36, 'H': 37, 'G': 38, 'Z': 39, 'r': 40, 'F': 41, '/': 42, 'Ş': 43, 'n': 44, 'o': 45, 'l': 46, '%': 47, 't': 48, 's': 49, 'Ü': 50, '-': 51, 'k': 52, 'd': 53, 'm': 54, 'u': 55, 'X': 56, 'y': 57, 'c': 58, 'g': 59, 'z': 60, 'h': 61, '#': 62, 'ı': 63, 'b': 64, 'w': 65, 'Ç': 66, 'Ğ': 67, 'Ö': 68, 'p': 69, 'v': 70, 'ş': 71, 'W': 72, 'ü': 73, ')': 74, '(': 75, 'J': 76, 'f': 77, 'x': 78, \"'\": 79, '+': 80, '$': 81, 'ğ': 82, '»': 83, 'ç': 84, '!': 85, 'Q': 86, '=': 87, 'ö': 88, 'Í': 89, 'ж': 90, '&': 91, 'j': 92, '>': 93, '\"': 94, '\\\\': 95, 'Т': 96, 'О': 97, 'Р': 98, 'q': 99, '×': 100, '@': 101, ';': 102, 'Ø': 103, '|': 104, 'К': 105, '<': 106, 'Á': 107, 'Ș': 108, 'Ú': 109, '[': 110, '_': 111, '•': 112, 'Ł': 113, 'ł': 114, 'É': 115, 'Č': 116, 'Ž': 117, '€': 118, 'Ì': 119, '}': 120, '※': 121, 'à': 122, 'ó': 123, 'č': 124, 'ä': 125, '?': 126, 'ć': 127, ']': 128, 'Ē': 129, 'Ā': 130, 'Ė': 131, 'Å': 132, 'о': 133, '¥': 134, 'Ī': 135, 'Ó': 136, '^': 137, 'Ữ': 138, 'ś': 139, '✰': 140, '⁹': 141, 'á': 142, '{': 143, 'ø': 144, 'У': 145, 'Ệ': 146, 'Š': 147, 'À': 148, 'и': 149, 'Î': 150, '到': 151, '米': 152, '…': 153, 'é': 154, 'ń': 155, 'õ': 156, 'Ị': 157, 'ě': 158, 'Ð': 159, 'Ļ': 160, '¡': 161, 'Ć': 162, '头': 163, 'ș': 164, 'Ģ': 165, 'Ő': 166, '„': 167, '·': 168, '₁': 169, 'ē': 170, '®': 171, 'Đ': 172, 'Ś': 173, 'Ů': 174, '▸': 175, '三': 176, 'Ể': 177, 'š': 178, '紫': 179, 'ž': 180, '₂': 181, 'Ż': 182, 'ə': 183, '风': 184, 'û': 185, 'л': 186, 'с': 187, 'ộ': 188, 'Ä': 189, 'শ': 190, 'Ř': 191, '`': 192, 'Ý': 193, '¨': 194, 'å': 195}\n"
     ]
    }
   ],
   "source": [
    "#SAVE TOKENIZER\n",
    "with open('tokenizer.pickle', 'wb') as handle:\n",
    "    pickle.dump(tokenizer, handle, protocol=pickle.HIGHEST_PROTOCOL)\n",
    "\n",
    "print(tokenizer.word_index)"
   ]
  },
  {
   "cell_type": "code",
   "execution_count": 135,
   "metadata": {
    "colab": {
     "base_uri": "https://localhost:8080/"
    },
    "id": "Xdd7tSD_kcQs",
    "outputId": "fc5c41a4-7644-40ff-e95d-f1c605d091e2"
   },
   "outputs": [
    {
     "name": "stdout",
     "output_type": "stream",
     "text": [
      "(547, 384, 20)\n",
      "(547, 384, 20)\n"
     ]
    }
   ],
   "source": [
    "def process_text_files(directory):\n",
    "    all_texts = []\n",
    "    all_texts_extend = []\n",
    "\n",
    "    # Iterate over all files in the directory\n",
    "    for filename in os.listdir(directory):\n",
    "        if filename.endswith('.txt'):\n",
    "            file_path = os.path.join(directory, filename)\n",
    "            with open(file_path, 'r', encoding='utf-8') as file:\n",
    "                content = file.read()\n",
    "                content = re.sub(r'<start_\".*?\">', '', content)\n",
    "                content = re.sub(r'<end_\".*?\">', '', content)\n",
    "                txt_data = content.split()\n",
    "                all_texts.append(txt_data)\n",
    "                all_texts_extend.extend(txt_data)\n",
    "\n",
    "    #tokenizer = Tokenizer(char_level=True, lower=False)\n",
    "    #tokenizer.fit_on_texts(all_texts_extend)\n",
    "\n",
    "    all_sequences=[]\n",
    "    for i in range(len(all_texts)):\n",
    "        all_sequences.append(tokenizer.texts_to_sequences(all_texts[i]))\n",
    "        \n",
    "\n",
    "    max_word_length = 20\n",
    "    trunc_type = 'post'\n",
    "    padding_type = 'post'\n",
    "\n",
    "    # Pad each word sequence to the length of the longest word\n",
    "    all_padded_sequences=[]\n",
    "    for i in range(len(all_sequences)):\n",
    "        padded_sequence = pad_sequences(all_sequences[i], maxlen=max_word_length, padding=padding_type, truncating=trunc_type)\n",
    "        all_padded_sequences.append(padded_sequence)\n",
    "\n",
    "    return all_padded_sequences, tokenizer.word_index\n",
    "\n",
    "\n",
    "#   TRAIN\n",
    "directory_path = directory_train\n",
    "padded_sequences, word_index = process_text_files(directory_path)\n",
    "padded_arrays = []\n",
    "for arr in padded_sequences:\n",
    "    pad_width = ((0, max_sequence_length - len(arr)), (0, 0))\n",
    "    padded_arr = np.pad(arr, pad_width, mode='constant', constant_values=0)\n",
    "    padded_arrays.append(padded_arr)\n",
    "\n",
    "#  TEST\n",
    "directory_path_test = directory_test\n",
    "padded_sequences_test, word_index_test = process_text_files(directory_path_test)\n",
    "padded_arrays_test = []\n",
    "for arr in padded_sequences_test:\n",
    "    pad_width = ((0, max_sequence_length - len(arr)), (0, 0))\n",
    "    padded_arr = np.pad(arr, pad_width, mode='constant', constant_values=0)\n",
    "    padded_arrays_test.append(padded_arr)\n",
    "\n",
    "\n",
    "np.set_printoptions(threshold=np.inf)\n",
    "\n",
    "#son array'i numpy array'ine çevir\n",
    "x_train=np.array(padded_arrays)\n",
    "x_test=np.array(padded_arrays_test)\n",
    "\n",
    "print(x_train.shape)\n",
    "print(x_test.shape)\n",
    "\n",
    "np.set_printoptions(threshold=1000)"
   ]
  },
  {
   "cell_type": "code",
   "execution_count": 136,
   "metadata": {
    "colab": {
     "base_uri": "https://localhost:8080/"
    },
    "id": "dVT6bwgCkeWQ",
    "outputId": "badc6c95-dd66-41b3-981d-43b9ee7f1084"
   },
   "outputs": [
    {
     "name": "stdout",
     "output_type": "stream",
     "text": [
      "(547, 384, 14)\n",
      "(547, 384, 14)\n"
     ]
    }
   ],
   "source": [
    "global wordsList,wordsIndextList\n",
    "\n",
    "wordsList = []\n",
    "wordsIndextList = []\n",
    "max_sequence_length = 384\n",
    "\n",
    "\n",
    "label_list = [\"<start_\\\"company_name\\\">\",\n",
    "              \"<end_\\\"company_name\\\">\",\n",
    "                  \"<start_\\\"date\\\">\",\n",
    "                  \"<end_\\\"date\\\">\",\n",
    "                  \"<start_\\\"time\\\">\",\n",
    "                  \"<end_\\\"time\\\">\",\n",
    "                  \"<start_\\\"receipt_number\\\">\",\n",
    "                  \"<end_\\\"receipt_number\\\">\",\n",
    "                  \"<start_\\\"tax\\\">\",\n",
    "                  \"<end_\\\"tax\\\">\",\n",
    "                  \"<start_\\\"amount\\\">\",\n",
    "                  \"<end_\\\"amount\\\">\"]\n",
    "\n",
    "label_list2= [\"Pad\",\"Others\",\"B_Comp\",\"l_Comp\",\"B_Date\",\"l_Date\",\"B_Time\",\"l_Time\",\n",
    "                  \"B_Receipt\",\"l_Receipt\",\"B_Tax\",\"l_Tax\",\"B_Amount\",\"l_Amount\"]\n",
    "\n",
    "\n",
    "\n",
    "def one_hot_encode_index_list():\n",
    "    oneHotEncodedList = []\n",
    "    unique_labels_len = len(sorted(set(label_list2)))\n",
    "    for i in wordsIndextList:\n",
    "        bitlist = list(0 for i in range(unique_labels_len))\n",
    "        bitlist[i] = 1\n",
    "        oneHotEncodedList.append(bitlist)\n",
    "\n",
    "    for i in  range(max_sequence_length-len(oneHotEncodedList)):\n",
    "        oneHotEncodedList.append([1,0,0,0,0,0,0,0,0,0,0,0,0,0])\n",
    "    return oneHotEncodedList\n",
    "\n",
    "\n",
    "def splitfunction(text:str):\n",
    "    global wordsList,wordsIndextList\n",
    "    wordsList = []\n",
    "    wordsIndextList = []\n",
    "    words = text.split()\n",
    "    for word in words:\n",
    "        wordsList.append(word)\n",
    "        wordsIndextList.append(1)\n",
    "\n",
    "\n",
    "\n",
    "def indexAssignment(tag,last):\n",
    "    if(tag==None):\n",
    "        return None\n",
    "    index = label_list.index(tag)+2\n",
    "    if(last == \"l\"):\n",
    "       index +=1\n",
    "    return index\n",
    "\n",
    "\n",
    "def checkTag(word:str):\n",
    "    for tag in label_list:\n",
    "        index = word.find(tag)\n",
    "        if index != -1:\n",
    "            return tag\n",
    "    return None\n",
    "\n",
    "\n",
    "\n",
    "def tagingWords():\n",
    "    control = None\n",
    "    counter = 0\n",
    "    for word in wordsList:\n",
    "        tag = checkTag(word)\n",
    "        if tag != None:\n",
    "            if(word.find(\"<start_\") != -1):\n",
    "                control = tag\n",
    "            if(word.find(\"<start_\") != -1 and word.find(\"<end_\") == -1):\n",
    "                wordsIndextList[counter] = indexAssignment(tag,\"B\")\n",
    "                counter+=1\n",
    "            elif(word.find(\"<start_\") != -1 and word.find(\"<end_\") != -1):\n",
    "                wordsIndextList[counter] = indexAssignment(tag,\"B\")\n",
    "                counter+=1\n",
    "            else:\n",
    "                wordsIndextList[counter] = indexAssignment(tag,\"B\")\n",
    "                counter+=1\n",
    "            if(word.find(\"<end_\") != -1):\n",
    "                control = None\n",
    "        elif control !=None:\n",
    "            wordsIndextList[counter] = indexAssignment(control,\"l\")\n",
    "            counter+=1\n",
    "        else:\n",
    "            counter+=1\n",
    "\n",
    "\n",
    "def oneHotEncodedFunction(texts):\n",
    "    splitfunction(texts)\n",
    "    tagingWords()\n",
    "    return np.array(one_hot_encode_index_list())\n",
    "\n",
    "\n",
    "\n",
    "# TRAIN\n",
    "folder_path_train =  directory_train\n",
    "file_list_train = os.listdir(folder_path_train)\n",
    "y_train= []\n",
    "for file_name in file_list_train:\n",
    "    if file_name.endswith(\".txt\"):\n",
    "        file_path = os.path.join(folder_path_train, file_name)\n",
    "        with open(file_path, 'r', encoding='utf-8') as f:\n",
    "            text = f.read()\n",
    "            result = oneHotEncodedFunction(text)\n",
    "\n",
    "            if len(y_train) == 0:\n",
    "                y_train = np.array([result])\n",
    "            else:\n",
    "                y_train = np.concatenate((y_train, [result]), axis=0)\n",
    "\n",
    "\n",
    "# TEST\n",
    "folder_path_test =  directory_test\n",
    "file_list_test = os.listdir(folder_path_test)\n",
    "y_test= []\n",
    "for file_name in file_list_test:\n",
    "    if file_name.endswith(\".txt\"):\n",
    "        file_path = os.path.join(folder_path_test, file_name)\n",
    "        with open(file_path, 'r', encoding='utf-8') as f:\n",
    "            text = f.read()\n",
    "            result = oneHotEncodedFunction(text)\n",
    "\n",
    "            if len(y_test) == 0:\n",
    "                y_test = np.array([result])\n",
    "            else:\n",
    "                y_test = np.concatenate((y_test, [result]), axis=0)\n",
    "\n",
    "\n",
    "print(y_train.shape)\n",
    "print(y_test.shape)"
   ]
  },
  {
   "cell_type": "code",
   "execution_count": 6,
   "metadata": {
    "colab": {
     "base_uri": "https://localhost:8080/"
    },
    "id": "Cn98EjXx-yjY",
    "outputId": "0209eb6d-bd0e-4300-af8b-fbb6efdc1cfc"
   },
   "outputs": [
    {
     "name": "stdout",
     "output_type": "stream",
     "text": [
      "(None, 384, 20)\n"
     ]
    }
   ],
   "source": [
    "# LSTM Modeli\n",
    "\n",
    "input_shape = (max_sequence_length, max_word_length)\n",
    "input_layer = Input(shape=(max_sequence_length,max_word_length))\n",
    "print(input_layer.shape)\n"
   ]
  },
  {
   "cell_type": "code",
   "execution_count": 7,
   "metadata": {
    "colab": {
     "base_uri": "https://localhost:8080/"
    },
    "id": "mdptHORKERmx",
    "outputId": "72270e50-638f-4f63-f838-689bd1a941c6"
   },
   "outputs": [
    {
     "name": "stderr",
     "output_type": "stream",
     "text": [
      "2024-03-13 22:09:22.465932: I metal_plugin/src/device/metal_device.cc:1154] Metal device set to: Apple M1\n",
      "2024-03-13 22:09:22.466226: I metal_plugin/src/device/metal_device.cc:296] systemMemory: 8.00 GB\n",
      "2024-03-13 22:09:22.466275: I metal_plugin/src/device/metal_device.cc:313] maxCacheSize: 2.67 GB\n",
      "2024-03-13 22:09:22.467204: I tensorflow/core/common_runtime/pluggable_device/pluggable_device_factory.cc:303] Could not identify NUMA node of platform GPU ID 0, defaulting to 0. Your kernel may not have been built with NUMA support.\n",
      "2024-03-13 22:09:22.468147: I tensorflow/core/common_runtime/pluggable_device/pluggable_device_factory.cc:269] Created TensorFlow device (/job:localhost/replica:0/task:0/device:GPU:0 with 0 MB memory) -> physical PluggableDevice (device: 0, name: METAL, pci bus id: <undefined>)\n"
     ]
    },
    {
     "name": "stdout",
     "output_type": "stream",
     "text": [
      "(None, 384, 20, 128)\n"
     ]
    }
   ],
   "source": [
    "char_embedding = Embedding(input_dim=max_word_length, output_dim=embedding_size)(input_layer)\n",
    "print(char_embedding.shape)\n"
   ]
  },
  {
   "cell_type": "code",
   "execution_count": 8,
   "metadata": {
    "colab": {
     "base_uri": "https://localhost:8080/"
    },
    "id": "W7FoMTlUES5H",
    "outputId": "fff0bfb8-4eb5-434c-8ad9-e81d08007e99"
   },
   "outputs": [
    {
     "name": "stdout",
     "output_type": "stream",
     "text": [
      "(None, 20, 128)\n"
     ]
    }
   ],
   "source": [
    "reshaped_embedding = tensorflow.reshape(char_embedding, (-1, max_word_length, embedding_size))\n",
    "print(reshaped_embedding.shape)"
   ]
  },
  {
   "cell_type": "code",
   "execution_count": 9,
   "metadata": {
    "colab": {
     "base_uri": "https://localhost:8080/"
    },
    "id": "j7icA8cmETxy",
    "outputId": "586c56d5-e82a-45b6-e2c8-075fa3387bc8"
   },
   "outputs": [
    {
     "name": "stdout",
     "output_type": "stream",
     "text": [
      "KerasTensor(type_spec=TensorSpec(shape=(None, 20, 256), dtype=tf.float32, name=None), name='lstm/PartitionedCall:1', description=\"created by layer 'lstm'\")\n",
      "KerasTensor(type_spec=TensorSpec(shape=(None, 20, 256), dtype=tf.float32, name=None), name='lstm_1/PartitionedCall:1', description=\"created by layer 'lstm_1'\")\n"
     ]
    }
   ],
   "source": [
    "char_lstm, state_h, state_c = LSTM(units=lstm_units, return_sequences=True, return_state=True)(reshaped_embedding)\n",
    "print(char_lstm)\n",
    "\n",
    "char_lstm2, state_h, state_c = LSTM(units=lstm_units, return_sequences=True, return_state=True)(char_lstm, initial_state=[state_h, state_c])\n",
    "print(char_lstm2)"
   ]
  },
  {
   "cell_type": "code",
   "execution_count": 10,
   "metadata": {
    "colab": {
     "base_uri": "https://localhost:8080/"
    },
    "id": "YGtn72ZpEUh4",
    "outputId": "c9619696-5622-47f6-a121-2ef16f66086a"
   },
   "outputs": [
    {
     "name": "stdout",
     "output_type": "stream",
     "text": [
      "(None, 384, 256)\n"
     ]
    }
   ],
   "source": [
    "reshaped = tensorflow.reshape(state_h, (-1,max_sequence_length, state_h.shape[-1]))\n",
    "print(reshaped.shape)"
   ]
  },
  {
   "cell_type": "code",
   "execution_count": 11,
   "metadata": {
    "colab": {
     "base_uri": "https://localhost:8080/"
    },
    "id": "BcEFTZt2EVUr",
    "outputId": "d6b5882e-16bc-42a7-a70b-4fbb2ef0ea54"
   },
   "outputs": [
    {
     "name": "stdout",
     "output_type": "stream",
     "text": [
      "KerasTensor(type_spec=TensorSpec(shape=(None, 384, 256), dtype=tf.float32, name=None), name='lstm_2/PartitionedCall:1', description=\"created by layer 'lstm_2'\")\n",
      "KerasTensor(type_spec=TensorSpec(shape=(None, 384, 256), dtype=tf.float32, name=None), name='lstm_3/PartitionedCall:1', description=\"created by layer 'lstm_3'\")\n"
     ]
    }
   ],
   "source": [
    "word_lstm1, state_h, state_c = LSTM(units=lstm_units, return_sequences=True, return_state=True)(reshaped)\n",
    "print(word_lstm1)\n",
    "word_lstm2, state_h, state_c = LSTM(units=lstm_units, return_sequences=True, return_state=True)(word_lstm1, initial_state=[state_h, state_c])\n",
    "print(word_lstm2)"
   ]
  },
  {
   "cell_type": "code",
   "execution_count": 12,
   "metadata": {
    "colab": {
     "base_uri": "https://localhost:8080/"
    },
    "id": "3x_Rxbx0EWXU",
    "outputId": "3bf8b225-10d5-4d96-f816-8a6fd0efd758"
   },
   "outputs": [
    {
     "name": "stdout",
     "output_type": "stream",
     "text": [
      "KerasTensor(type_spec=TensorSpec(shape=(None, 384, 256), dtype=tf.float32, name=None), name='lstm_3/PartitionedCall:1', description=\"created by layer 'lstm_3'\")\n"
     ]
    }
   ],
   "source": [
    "classification_output = Dense(units=num_classes, activation='softmax')(word_lstm2)\n",
    "print(word_lstm2)"
   ]
  },
  {
   "cell_type": "code",
   "execution_count": 13,
   "metadata": {
    "id": "-uURGeTIEXGw"
   },
   "outputs": [],
   "source": [
    "model = Model(inputs=input_layer, outputs=classification_output)"
   ]
  },
  {
   "cell_type": "code",
   "execution_count": 14,
   "metadata": {
    "colab": {
     "base_uri": "https://localhost:8080/"
    },
    "id": "VZyQlIvNEYC7",
    "outputId": "ecae5f3d-b295-4f1d-85a8-50f8f48f6870"
   },
   "outputs": [
    {
     "name": "stdout",
     "output_type": "stream",
     "text": [
      "Model: \"model\"\n",
      "__________________________________________________________________________________________________\n",
      " Layer (type)                Output Shape                 Param #   Connected to                  \n",
      "==================================================================================================\n",
      " input_1 (InputLayer)        [(None, 384, 20)]            0         []                            \n",
      "                                                                                                  \n",
      " embedding (Embedding)       (None, 384, 20, 128)         2560      ['input_1[0][0]']             \n",
      "                                                                                                  \n",
      " tf.reshape (TFOpLambda)     (None, 20, 128)              0         ['embedding[0][0]']           \n",
      "                                                                                                  \n",
      " lstm (LSTM)                 [(None, 20, 256),            394240    ['tf.reshape[0][0]']          \n",
      "                              (None, 256),                                                        \n",
      "                              (None, 256)]                                                        \n",
      "                                                                                                  \n",
      " lstm_1 (LSTM)               [(None, 20, 256),            525312    ['lstm[0][0]',                \n",
      "                              (None, 256),                           'lstm[0][1]',                \n",
      "                              (None, 256)]                           'lstm[0][2]']                \n",
      "                                                                                                  \n",
      " tf.reshape_1 (TFOpLambda)   (None, 384, 256)             0         ['lstm_1[0][1]']              \n",
      "                                                                                                  \n",
      " lstm_2 (LSTM)               [(None, 384, 256),           525312    ['tf.reshape_1[0][0]']        \n",
      "                              (None, 256),                                                        \n",
      "                              (None, 256)]                                                        \n",
      "                                                                                                  \n",
      " lstm_3 (LSTM)               [(None, 384, 256),           525312    ['lstm_2[0][0]',              \n",
      "                              (None, 256),                           'lstm_2[0][1]',              \n",
      "                              (None, 256)]                           'lstm_2[0][2]']              \n",
      "                                                                                                  \n",
      " dense (Dense)               (None, 384, 14)              3598      ['lstm_3[0][0]']              \n",
      "                                                                                                  \n",
      "==================================================================================================\n",
      "Total params: 1976334 (7.54 MB)\n",
      "Trainable params: 1976334 (7.54 MB)\n",
      "Non-trainable params: 0 (0.00 Byte)\n",
      "__________________________________________________________________________________________________\n"
     ]
    }
   ],
   "source": [
    "model.compile(optimizer='adam', loss='categorical_crossentropy', metrics=['accuracy'])\n",
    "\n",
    "model.summary()"
   ]
  },
  {
   "cell_type": "code",
   "execution_count": null,
   "metadata": {},
   "outputs": [],
   "source": [
    "from keras.callbacks import EarlyStopping, ModelCheckpoint\n",
    "\n",
    "early_stopping = EarlyStopping(monitor='val_accuracy', patience=5, restore_best_weights=True)\n",
    "\n",
    "checkpoint = ModelCheckpoint('best_model.keras', monitor='val_accuracy', save_best_only=True)"
   ]
  },
  {
   "cell_type": "code",
   "execution_count": 15,
   "metadata": {
    "colab": {
     "base_uri": "https://localhost:8080/"
    },
    "id": "X1GwVzzxEZCh",
    "outputId": "1e1b9b95-266a-46f6-9662-ea7cb81a328b"
   },
   "outputs": [
    {
     "name": "stdout",
     "output_type": "stream",
     "text": [
      "Epoch 1/10\n"
     ]
    },
    {
     "name": "stderr",
     "output_type": "stream",
     "text": [
      "2024-03-13 22:09:31.573028: I tensorflow/core/grappler/optimizers/custom_graph_optimizer_registry.cc:114] Plugin optimizer for device_type GPU is enabled.\n",
      "2024-03-13 22:09:32.368039: I tensorflow/core/grappler/optimizers/custom_graph_optimizer_registry.cc:114] Plugin optimizer for device_type GPU is enabled.\n",
      "2024-03-13 22:09:32.984734: I tensorflow/core/grappler/optimizers/custom_graph_optimizer_registry.cc:114] Plugin optimizer for device_type GPU is enabled.\n",
      "2024-03-13 22:09:33.409013: I tensorflow/core/grappler/optimizers/custom_graph_optimizer_registry.cc:114] Plugin optimizer for device_type GPU is enabled.\n",
      "2024-03-13 22:09:33.939798: I tensorflow/core/grappler/optimizers/custom_graph_optimizer_registry.cc:114] Plugin optimizer for device_type GPU is enabled.\n",
      "2024-03-13 22:09:36.284883: I tensorflow/core/grappler/optimizers/custom_graph_optimizer_registry.cc:114] Plugin optimizer for device_type GPU is enabled.\n",
      "2024-03-13 22:09:36.935683: I tensorflow/core/grappler/optimizers/custom_graph_optimizer_registry.cc:114] Plugin optimizer for device_type GPU is enabled.\n",
      "2024-03-13 22:09:37.039282: I tensorflow/core/grappler/optimizers/custom_graph_optimizer_registry.cc:114] Plugin optimizer for device_type GPU is enabled.\n",
      "2024-03-13 22:09:37.474774: I tensorflow/core/grappler/optimizers/custom_graph_optimizer_registry.cc:114] Plugin optimizer for device_type GPU is enabled.\n"
     ]
    },
    {
     "name": "stdout",
     "output_type": "stream",
     "text": [
      "35/35 [==============================] - ETA: 0s - loss: 0.7093 - accuracy: 0.7892"
     ]
    },
    {
     "name": "stderr",
     "output_type": "stream",
     "text": [
      "2024-03-13 22:10:54.933635: I tensorflow/core/grappler/optimizers/custom_graph_optimizer_registry.cc:114] Plugin optimizer for device_type GPU is enabled.\n",
      "2024-03-13 22:10:55.101120: I tensorflow/core/grappler/optimizers/custom_graph_optimizer_registry.cc:114] Plugin optimizer for device_type GPU is enabled.\n",
      "2024-03-13 22:10:55.160700: I tensorflow/core/grappler/optimizers/custom_graph_optimizer_registry.cc:114] Plugin optimizer for device_type GPU is enabled.\n",
      "2024-03-13 22:10:55.426347: I tensorflow/core/grappler/optimizers/custom_graph_optimizer_registry.cc:114] Plugin optimizer for device_type GPU is enabled.\n",
      "2024-03-13 22:10:55.640553: I tensorflow/core/grappler/optimizers/custom_graph_optimizer_registry.cc:114] Plugin optimizer for device_type GPU is enabled.\n"
     ]
    },
    {
     "name": "stdout",
     "output_type": "stream",
     "text": [
      "35/35 [==============================] - 96s 3s/step - loss: 0.7093 - accuracy: 0.7892 - val_loss: 0.1654 - val_accuracy: 0.9629\n",
      "Epoch 2/10\n",
      "35/35 [==============================] - 85s 2s/step - loss: 0.1509 - accuracy: 0.9649 - val_loss: 0.1385 - val_accuracy: 0.9661\n",
      "Epoch 3/10\n",
      "35/35 [==============================] - 83s 2s/step - loss: 0.1353 - accuracy: 0.9682 - val_loss: 0.1248 - val_accuracy: 0.9700\n",
      "Epoch 4/10\n",
      "35/35 [==============================] - 80s 2s/step - loss: 0.1275 - accuracy: 0.9695 - val_loss: 0.1202 - val_accuracy: 0.9702\n",
      "Epoch 5/10\n",
      "35/35 [==============================] - 84s 2s/step - loss: 0.3615 - accuracy: 0.9198 - val_loss: 0.1607 - val_accuracy: 0.9588\n",
      "Epoch 6/10\n",
      "35/35 [==============================] - 85s 2s/step - loss: 0.1604 - accuracy: 0.9581 - val_loss: 0.1493 - val_accuracy: 0.9601\n",
      "Epoch 7/10\n",
      "35/35 [==============================] - 85s 2s/step - loss: 0.1567 - accuracy: 0.9585 - val_loss: 0.1468 - val_accuracy: 0.9602\n",
      "Epoch 8/10\n",
      "35/35 [==============================] - 221s 6s/step - loss: 0.1514 - accuracy: 0.9595 - val_loss: 0.1460 - val_accuracy: 0.9597\n",
      "Epoch 9/10\n",
      "35/35 [==============================] - 89s 3s/step - loss: 0.1504 - accuracy: 0.9597 - val_loss: 0.1431 - val_accuracy: 0.9613\n",
      "Epoch 10/10\n",
      "35/35 [==============================] - 81s 2s/step - loss: 0.1489 - accuracy: 0.9601 - val_loss: 0.1423 - val_accuracy: 0.9612\n"
     ]
    },
    {
     "data": {
      "text/plain": [
       "<keras.src.callbacks.History at 0x168a7da90>"
      ]
     },
     "execution_count": 15,
     "metadata": {},
     "output_type": "execute_result"
    }
   ],
   "source": [
    "model.fit(x_train, y_train, epochs=100,batch_size=16, validation_data=(x_test, y_test), callbacks=[early_stopping, checkpoint])"
   ]
  },
  {
   "cell_type": "code",
   "execution_count": 141,
   "metadata": {},
   "outputs": [],
   "source": [
    "#MODELİ ÇALIŞTIR\n",
    "def model_run(directory):\n",
    "    all_texts = []\n",
    "\n",
    "    for filename in os.listdir(directory):\n",
    "        if filename.endswith('.txt'):\n",
    "            file_path = os.path.join(directory, filename)\n",
    "            with open(file_path, 'r', encoding='utf-8') as file:\n",
    "                content = file.read()\n",
    "                txt_data = content.split()\n",
    "                all_texts.append(txt_data)\n",
    "                \n",
    "    #TOKENIZER YÜKLE\n",
    "    with open('tokenizer.pickle', 'rb') as handle:\n",
    "        tokenizer_model = pickle.load(handle)     \n",
    "    print(tokenizer_model.word_index)        \n",
    "\n",
    "    all_sequences=[]\n",
    "    for i in range(len(all_texts)):\n",
    "        all_sequences.append(tokenizer_model.texts_to_sequences(all_texts[i]))\n",
    "        \n",
    "    max_word_length,trunc_type,padding_type = 20,'post','post'\n",
    "\n",
    "    all_padded_sequences=[]\n",
    "    for i in range(len(all_sequences)):\n",
    "        padded_sequence = pad_sequences(all_sequences[i], maxlen=max_word_length, padding=padding_type, truncating=trunc_type)\n",
    "        all_padded_sequences.append(padded_sequence)\n",
    "\n",
    "    padded_arrays = []\n",
    "    for arr in all_padded_sequences:\n",
    "        pad_width = ((0, max_sequence_length - len(arr)), (0, 0))\n",
    "        padded_arr = np.pad(arr, pad_width, mode='constant', constant_values=0)\n",
    "        padded_arrays.append(padded_arr)\n",
    "\n",
    "    xtrain=np.array(padded_arrays)\n",
    "    model = keras.models.load_model(model_path)\n",
    "\n",
    "    prediction=model.predict(xtrain)\n",
    "    print(prediction.shape)\n",
    "    #------------------------------------------------------------\n",
    "    label_list = [\"Pad\", \"Others\", \"B_Comp\", \"I_Comp\", \"B_Date\", \"I_Date\", \"B_Time\", \"I_Time\", \"B_Receipt\", \"I_Receipt\", \"B_Tax\", \"I_Tax\", \"B_Amount\", \"I_Amount\"]\n",
    "\n",
    "    #deneme yapılacak fişin konumu\n",
    "    with open(\"/Users/talhaunal/Downloads/OCR_dataset/deneme-veriler/deneme-veri.txt\", \"r\", encoding=\"utf-8\") as file:\n",
    "        words = file.read().split()\n",
    "    \n",
    "    predicted_labels = np.argmax(prediction, axis=-1)\n",
    "    print(predicted_labels)\n",
    "    \n",
    "    #klasördeki ilk fişi temsil eder\n",
    "    fis_1=predicted_labels[0]\n",
    "\n",
    "    truncated_values = fis_1[:len(words)]#uzun olan diziyi kısalt ve iki dizi boyutunu eşle\n",
    "    my_map = dict(zip(words, truncated_values))#kelimelere ve karşılarına predictionları 0 1 2 formatında maple\n",
    "\n",
    "    result_map = {}\n",
    "    for key, value in my_map.items():#anlamlı gözükmesi için 0 1 2 yerine etiket isimleri olacak şekilde maple\n",
    "        index = min(value, len(label_list) - 1)\n",
    "        label = label_list[index]\n",
    "        result_map[key] = label\n",
    "\n",
    "    print(result_map)\n",
    "    for key, value in result_map.items():\n",
    "        print(f'{key}: {value}')\n",
    "        "
   ]
  },
  {
   "cell_type": "code",
   "execution_count": 142,
   "metadata": {
    "id": "un1sqF0VGhlQ"
   },
   "outputs": [
    {
     "name": "stdout",
     "output_type": "stream",
     "text": [
      "{'0': 1, 'A': 2, '1': 3, 'E': 4, 'T': 5, 'I': 6, '2': 7, 'R': 8, 'N': 9, 'L': 10, 'K': 11, '*': 12, 'S': 13, 'O': 14, 'M': 15, '5': 16, ':': 17, '.': 18, '3': 19, '8': 20, '4': 21, '9': 22, 'D': 23, '6': 24, 'U': 25, 'İ': 26, '7': 27, ',': 28, 'B': 29, 'C': 30, 'Y': 31, 'P': 32, 'V': 33, 'e': 34, 'a': 35, 'i': 36, 'H': 37, 'G': 38, 'Z': 39, 'r': 40, 'F': 41, '/': 42, 'Ş': 43, 'n': 44, 'o': 45, 'l': 46, '%': 47, 't': 48, 's': 49, 'Ü': 50, '-': 51, 'k': 52, 'd': 53, 'm': 54, 'u': 55, 'X': 56, 'y': 57, 'c': 58, 'g': 59, 'z': 60, 'h': 61, '#': 62, 'ı': 63, 'b': 64, 'w': 65, 'Ç': 66, 'Ğ': 67, 'Ö': 68, 'p': 69, 'v': 70, 'ş': 71, 'W': 72, 'ü': 73, ')': 74, '(': 75, 'J': 76, 'f': 77, 'x': 78, \"'\": 79, '+': 80, '$': 81, 'ğ': 82, '»': 83, 'ç': 84, '!': 85, 'Q': 86, '=': 87, 'ö': 88, 'Í': 89, 'ж': 90, '&': 91, 'j': 92, '>': 93, '\"': 94, '\\\\': 95, 'Т': 96, 'О': 97, 'Р': 98, 'q': 99, '×': 100, '@': 101, ';': 102, 'Ø': 103, '|': 104, 'К': 105, '<': 106, 'Á': 107, 'Ș': 108, 'Ú': 109, '[': 110, '_': 111, '•': 112, 'Ł': 113, 'ł': 114, 'É': 115, 'Č': 116, 'Ž': 117, '€': 118, 'Ì': 119, '}': 120, '※': 121, 'à': 122, 'ó': 123, 'č': 124, 'ä': 125, '?': 126, 'ć': 127, ']': 128, 'Ē': 129, 'Ā': 130, 'Ė': 131, 'Å': 132, 'о': 133, '¥': 134, 'Ī': 135, 'Ó': 136, '^': 137, 'Ữ': 138, 'ś': 139, '✰': 140, '⁹': 141, 'á': 142, '{': 143, 'ø': 144, 'У': 145, 'Ệ': 146, 'Š': 147, 'À': 148, 'и': 149, 'Î': 150, '到': 151, '米': 152, '…': 153, 'é': 154, 'ń': 155, 'õ': 156, 'Ị': 157, 'ě': 158, 'Ð': 159, 'Ļ': 160, '¡': 161, 'Ć': 162, '头': 163, 'ș': 164, 'Ģ': 165, 'Ő': 166, '„': 167, '·': 168, '₁': 169, 'ē': 170, '®': 171, 'Đ': 172, 'Ś': 173, 'Ů': 174, '▸': 175, '三': 176, 'Ể': 177, 'š': 178, '紫': 179, 'ž': 180, '₂': 181, 'Ż': 182, 'ə': 183, '风': 184, 'û': 185, 'л': 186, 'с': 187, 'ộ': 188, 'Ä': 189, 'শ': 190, 'Ř': 191, '`': 192, 'Ý': 193, '¨': 194, 'å': 195}\n"
     ]
    },
    {
     "name": "stderr",
     "output_type": "stream",
     "text": [
      "2024-03-14 05:58:44.240005: I tensorflow/core/grappler/optimizers/custom_graph_optimizer_registry.cc:114] Plugin optimizer for device_type GPU is enabled.\n",
      "2024-03-14 05:58:44.542039: I tensorflow/core/grappler/optimizers/custom_graph_optimizer_registry.cc:114] Plugin optimizer for device_type GPU is enabled.\n",
      "2024-03-14 05:58:44.716450: I tensorflow/core/grappler/optimizers/custom_graph_optimizer_registry.cc:114] Plugin optimizer for device_type GPU is enabled.\n",
      "2024-03-14 05:58:44.927833: I tensorflow/core/grappler/optimizers/custom_graph_optimizer_registry.cc:114] Plugin optimizer for device_type GPU is enabled.\n",
      "2024-03-14 05:58:45.081222: I tensorflow/core/grappler/optimizers/custom_graph_optimizer_registry.cc:114] Plugin optimizer for device_type GPU is enabled.\n"
     ]
    },
    {
     "name": "stdout",
     "output_type": "stream",
     "text": [
      "1/1 [==============================] - 2s 2s/step\n",
      "(1, 384, 14)\n",
      "[[2 1 3 3 1 1 1 1 1 1 1 1 1 1 1 1 1 1 1 1 1 1 1 1 1 1 1 1 1 1 1 1 1 1 1 1\n",
      "  1 1 1 1 1 1 1 1 1 1 1 1 1 1 1 1 1 1 1 1 1 1 1 1 1 1 1 1 1 0 0 0 1 1 1 1\n",
      "  1 1 1 1 1 1 1 1 1 1 1 1 1 1 1 1 1 1 1 1 1 1 1 1 1 1 1 1 1 1 1 1 1 1 1 1\n",
      "  1 1 1 1 1 1 1 1 1 1 1 0 0 0 0 0 0 0 0 0 0 0 0 0 0 0 0 0 0 0 0 0 0 0 0 0\n",
      "  0 0 0 0 0 0 0 0 0 0 0 0 0 0 0 0 0 0 0 0 0 0 0 0 0 0 0 0 0 0 0 0 0 0 0 0\n",
      "  0 0 0 0 0 0 0 0 0 0 0 0 0 0 0 0 0 0 0 0 0 0 0 0 0 0 0 0 0 0 0 0 0 0 0 0\n",
      "  0 0 0 0 0 0 0 0 0 0 0 0 0 0 0 0 0 0 0 0 0 0 0 0 0 0 0 0 0 0 0 0 0 0 0 0\n",
      "  0 0 0 0 0 0 0 0 0 0 0 0 0 0 0 0 0 0 0 0 0 0 0 0 0 0 0 0 0 0 0 0 0 0 0 0\n",
      "  0 0 0 0 0 0 0 0 0 0 0 0 0 0 0 0 0 0 0 0 0 0 0 0 0 0 0 0 0 0 0 0 0 0 0 0\n",
      "  0 0 0 0 0 0 0 0 0 0 0 0 0 0 0 0 0 0 0 0 0 0 0 0 0 0 0 0 0 0 0 0 0 0 0 0\n",
      "  0 0 0 0 0 0 0 0 0 0 0 0 0 0 0 0 0 0 0 0 0 0 0 0]]\n",
      "{'BİM': 'Pad', 'BİRLEŞİK': 'Others', 'MAĞAZALAR': 'I_Comp', 'A.ş.': 'I_Comp', 'DİNAR': 'Others', 'CAD.': 'Others', 'NO:': 'Others', '99': 'Others', 'SANDIKLI': 'Others', '30': 'Others', 'AĞUSTOS': 'Others', '/': 'Others', 'AFYON': 'Others', 'BÜYÜK': 'Others', 'MÜKELLEFLER': 'Others', 'V.D': 'Others', '1750051846': 'Others', 'TARİH': 'Others', ':': 'Others', '09.02.2022': 'Others', 'SAAT': 'Others', '12:20': 'Others', 'FİŞ': 'Others', 'NO': 'Others', '0050': 'Others', 'SÜT': 'Others', '1L': 'Others', 'DOST': 'Others', '2': 'Others', 'X': 'Others', '7,90': 'Others', 'ÇİÇEKBAL': 'Others', '800GR': 'Others', 'T.ŞEK': 'Others', 'EKMEK': 'Others', '*7,90': 'Others', '08': 'Others', '%08': 'Others', '%01': 'Others', '*15,80': 'Others', '*39,90': 'Others', '*5,00': 'Others', 'TOPKDV': 'Others', 'TOPLAM': 'Others', '*4,76': 'Others', '*68,60': 'Others', 'KREDİ': 'Others', 'KARTI': 'Others', 'Banka': 'Others', 'Kredi': 'Others', 'Kartı.': 'Others', '(1)': 'Others', 'Provizyon': 'Others', 'No': 'Others', '005837': 'Others', 'İyi': 'Others', 'günler,': 'Others', 'yine': 'Pad', 'bekleriz.': 'Pad', 'L823': 'Others', 'ŞİRİNEVLE': 'Others', '9563': 'Others', 'ŞİRİNEVLER': 'Others', 'MAH.': 'Others', 'YUNUS': 'Others', 'EMRE': 'Others', 'BULV.': 'Others', 'NO:99': 'Others', 'Z1': 'Others', 'Mersis': 'Others', 'No:': 'Others', 'İŞYERİ': 'Others', '2690757899': 'Others', 'TERMİNAL': 'Others', '000504CA': 'Others', 'MÜŞTERİ': 'Others', 'NÜSHASI': 'Others', '-': 'Others', 'SATIŞ': 'Others', '09/02/2022': 'Others', '12:20:39': 'Others', 'M': 'Others', 'OF': 'Others', 'NA': 'Others', '****': 'Others', '5300': 'Others', 'UTAR': 'Others', '68,60TL': 'Others', 'İŞLEM': 'Others', 'TEMASSIZ': 'Others', 'TAMAMLANMIŞTIR': 'Others', 'KARŞILIĞI': 'Others', 'MAL/HİZM': 'Others', 'ALDIM': 'Others', ':005': 'Others', 'ONAY': 'Others', 'KODU:005837': 'Others', 'LIP': 'Others', '003': 'Others', 'AID:A0000000041010': 'Others', 'Won:92': 'Others', '13.05': 'Others'}\n",
      "BİM: Pad\n",
      "BİRLEŞİK: Others\n",
      "MAĞAZALAR: I_Comp\n",
      "A.ş.: I_Comp\n",
      "DİNAR: Others\n",
      "CAD.: Others\n",
      "NO:: Others\n",
      "99: Others\n",
      "SANDIKLI: Others\n",
      "30: Others\n",
      "AĞUSTOS: Others\n",
      "/: Others\n",
      "AFYON: Others\n",
      "BÜYÜK: Others\n",
      "MÜKELLEFLER: Others\n",
      "V.D: Others\n",
      "1750051846: Others\n",
      "TARİH: Others\n",
      ":: Others\n",
      "09.02.2022: Others\n",
      "SAAT: Others\n",
      "12:20: Others\n",
      "FİŞ: Others\n",
      "NO: Others\n",
      "0050: Others\n",
      "SÜT: Others\n",
      "1L: Others\n",
      "DOST: Others\n",
      "2: Others\n",
      "X: Others\n",
      "7,90: Others\n",
      "ÇİÇEKBAL: Others\n",
      "800GR: Others\n",
      "T.ŞEK: Others\n",
      "EKMEK: Others\n",
      "*7,90: Others\n",
      "08: Others\n",
      "%08: Others\n",
      "%01: Others\n",
      "*15,80: Others\n",
      "*39,90: Others\n",
      "*5,00: Others\n",
      "TOPKDV: Others\n",
      "TOPLAM: Others\n",
      "*4,76: Others\n",
      "*68,60: Others\n",
      "KREDİ: Others\n",
      "KARTI: Others\n",
      "Banka: Others\n",
      "Kredi: Others\n",
      "Kartı.: Others\n",
      "(1): Others\n",
      "Provizyon: Others\n",
      "No: Others\n",
      "005837: Others\n",
      "İyi: Others\n",
      "günler,: Others\n",
      "yine: Pad\n",
      "bekleriz.: Pad\n",
      "L823: Others\n",
      "ŞİRİNEVLE: Others\n",
      "9563: Others\n",
      "ŞİRİNEVLER: Others\n",
      "MAH.: Others\n",
      "YUNUS: Others\n",
      "EMRE: Others\n",
      "BULV.: Others\n",
      "NO:99: Others\n",
      "Z1: Others\n",
      "Mersis: Others\n",
      "No:: Others\n",
      "İŞYERİ: Others\n",
      "2690757899: Others\n",
      "TERMİNAL: Others\n",
      "000504CA: Others\n",
      "MÜŞTERİ: Others\n",
      "NÜSHASI: Others\n",
      "-: Others\n",
      "SATIŞ: Others\n",
      "09/02/2022: Others\n",
      "12:20:39: Others\n",
      "M: Others\n",
      "OF: Others\n",
      "NA: Others\n",
      "****: Others\n",
      "5300: Others\n",
      "UTAR: Others\n",
      "68,60TL: Others\n",
      "İŞLEM: Others\n",
      "TEMASSIZ: Others\n",
      "TAMAMLANMIŞTIR: Others\n",
      "KARŞILIĞI: Others\n",
      "MAL/HİZM: Others\n",
      "ALDIM: Others\n",
      ":005: Others\n",
      "ONAY: Others\n",
      "KODU:005837: Others\n",
      "LIP: Others\n",
      "003: Others\n",
      "AID:A0000000041010: Others\n",
      "Won:92: Others\n",
      "13.05: Others\n"
     ]
    }
   ],
   "source": [
    "\n",
    "#model_test_path içinde test edilecek veriler txt halde bulunmalıdır\n",
    "model_run(model_test_path)\n"
   ]
  },
  {
   "cell_type": "code",
   "execution_count": null,
   "metadata": {},
   "outputs": [],
   "source": []
  }
 ],
 "metadata": {
  "accelerator": "GPU",
  "colab": {
   "gpuType": "T4",
   "provenance": []
  },
  "kernelspec": {
   "display_name": "Python 3 (ipykernel)",
   "language": "python",
   "name": "python3"
  },
  "language_info": {
   "codemirror_mode": {
    "name": "ipython",
    "version": 3
   },
   "file_extension": ".py",
   "mimetype": "text/x-python",
   "name": "python",
   "nbconvert_exporter": "python",
   "pygments_lexer": "ipython3",
   "version": "3.12.2"
  }
 },
 "nbformat": 4,
 "nbformat_minor": 4
}
