{
 "cells": [
  {
   "cell_type": "code",
   "execution_count": 1,
   "id": "745ec0ed",
   "metadata": {},
   "outputs": [],
   "source": [
    "import tensorflow \n",
    "from tensorflow.keras.layers import Reshape\n",
    "from keras.layers import Input, Embedding, Reshape, LSTM, Dense, Flatten\n",
    "from keras.models import Model\n",
    "import os\n",
    "import numpy as np\n",
    "from tensorflow.keras.preprocessing.text import Tokenizer\n",
    "from tensorflow.keras.preprocessing.sequence import pad_sequences\n",
    "import re"
   ]
  },
  {
   "cell_type": "code",
   "execution_count": 2,
   "id": "698f314c",
   "metadata": {},
   "outputs": [],
   "source": [
    "batch_size = 16\n",
    "max_sequence_length = 384\n",
    "max_word_length = 20\n",
    "embedding_size = 128\n",
    "lstm_units = 256\n",
    "num_classes = 14"
   ]
  },
  {
   "cell_type": "code",
   "execution_count": 7,
   "id": "93b940d7",
   "metadata": {},
   "outputs": [
    {
     "name": "stdout",
     "output_type": "stream",
     "text": [
      "-----------------\n",
      "{'0': 1, 'A': 2, '1': 3, 'E': 4, 'T': 5, 'I': 6, '2': 7, 'R': 8, 'N': 9, 'L': 10, 'K': 11, '*': 12, 'S': 13, 'O': 14, 'M': 15, '5': 16, ':': 17, '.': 18, '3': 19, '8': 20, '4': 21, '9': 22, 'D': 23, '6': 24, 'U': 25, 'İ': 26, '7': 27, ',': 28, 'B': 29, 'C': 30, 'Y': 31, 'P': 32, 'V': 33, 'e': 34, 'a': 35, 'i': 36, 'H': 37, 'G': 38, 'Z': 39, 'r': 40, 'F': 41, '/': 42, 'Ş': 43, 'n': 44, 'o': 45, 'l': 46, '%': 47, 't': 48, 's': 49, 'Ü': 50, '-': 51, 'k': 52, 'd': 53, 'm': 54, 'u': 55, 'X': 56, 'y': 57, 'c': 58, 'g': 59, 'h': 60, 'z': 61, '#': 62, 'ı': 63, 'b': 64, 'w': 65, 'Ç': 66, 'Ğ': 67, 'Ö': 68, 'p': 69, 'v': 70, 'ş': 71, 'W': 72, 'ü': 73, ')': 74, '(': 75, 'J': 76, 'f': 77, 'x': 78, \"'\": 79, '+': 80, '$': 81, 'ğ': 82, '»': 83, 'ç': 84, '!': 85, 'Q': 86, '=': 87, 'ö': 88, 'Í': 89, 'ж': 90, '&': 91, 'j': 92, '>': 93, '\"': 94, '\\\\': 95, 'Т': 96, 'О': 97, 'Р': 98, 'q': 99, '×': 100, '@': 101, ';': 102, 'Ø': 103, 'К': 104, '|': 105, '<': 106, 'Á': 107, 'Ú': 108, 'Ș': 109, '[': 110, '_': 111, '•': 112, '€': 113, 'É': 114, 'Č': 115, 'Ł': 116, 'ł': 117, 'Ž': 118, 'à': 119, 'Ì': 120, '※': 121, '}': 122, 'ä': 123, 'ó': 124, 'č': 125, 'Ó': 126, '?': 127, 'Ė': 128, '¥': 129, 'Ē': 130, 'ć': 131, 'Ī': 132, 'Ā': 133, ']': 134, 'Å': 135, 'о': 136, 'á': 137, 'ś': 138, 'ø': 139, '到': 140, 'У': 141, '米': 142, '…': 143, 'Š': 144, '^': 145, 'À': 146, '✰': 147, 'Ữ': 148, 'Î': 149, '⁹': 150, 'é': 151, '{': 152, 'Ệ': 153, 'и': 154, 'শ': 155, 'Ř': 156, '三': 157, '风': 158, '紫': 159, '头': 160, 'ń': 161, 'Ś': 162, '·': 163, 'Ő': 164, 'Ị': 165, '`': 166, 'Ý': 167, '¨': 168, '®': 169, 'ə': 170, 'Đ': 171, '₁': 172, 'Ļ': 173, 'Ģ': 174, 'ž': 175, 'ě': 176, '▸': 177, '„': 178, 'Ż': 179, 'å': 180, 'л': 181, 'с': 182, 'ē': 183, 'õ': 184, 'Ể': 185, 'Ů': 186, '₂': 187, 'ș': 188, 'š': 189, 'û': 190, 'Ć': 191, 'Ð': 192, 'Ä': 193, 'ộ': 194, '¡': 195}\n",
      "-----------------\n",
      "(1094, 384, 20)\n"
     ]
    }
   ],
   "source": [
    "def process_text_files(directory):\n",
    "    all_texts = []\n",
    "    all_texts_extend = []\n",
    "    \n",
    "    # Iterate over all files in the directory\n",
    "    for filename in os.listdir(directory):\n",
    "        if filename.endswith('.txt'):\n",
    "            file_path = os.path.join(directory, filename)\n",
    "            with open(file_path, 'r', encoding='utf-8') as file:\n",
    "                content = file.read()\n",
    "                content = re.sub(r'<start_\".*?\">', '', content)\n",
    "                content = re.sub(r'<end_\".*?\">', '', content)\n",
    "                txt_data = content.split()\n",
    "                all_texts.append(txt_data)\n",
    "                all_texts_extend.extend(txt_data)\n",
    "    \n",
    "    tokenizer = Tokenizer(char_level=True, lower=False)\n",
    "    tokenizer.fit_on_texts(all_texts_extend)\n",
    "    \n",
    "    all_sequences=[]\n",
    "    for i in range(len(all_texts)):\n",
    "        all_sequences.append(tokenizer.texts_to_sequences(all_texts[i]))\n",
    "        \n",
    "    max_word_length = 20\n",
    "    trunc_type = 'post'\n",
    "    padding_type = 'post'\n",
    "    \n",
    "    # Pad each word sequence to the length of the longest word\n",
    "    all_padded_sequences=[]\n",
    "    for i in range(len(all_sequences)):\n",
    "        padded_sequence = pad_sequences(all_sequences[i], maxlen=max_word_length, padding=padding_type, truncating=trunc_type)\n",
    "        all_padded_sequences.append(padded_sequence)\n",
    "    \n",
    "    return all_padded_sequences, tokenizer.word_index\n",
    "\n",
    "#directory_path = '.'\n",
    "directory_path = '.'\n",
    "padded_sequences, word_index = process_text_files(directory_path)\n",
    "\n",
    "print(\"-----------------\")\n",
    "print(word_index)\n",
    "print(\"-----------------\")\n",
    "\n",
    "padded_arrays = []\n",
    "for arr in padded_sequences:\n",
    "    pad_width = ((0, max_sequence_length - len(arr)), (0, 0))\n",
    "    padded_arr = np.pad(arr, pad_width, mode='constant', constant_values=0)\n",
    "    padded_arrays.append(padded_arr)\n",
    "\n",
    "\n",
    "np.set_printoptions(threshold=np.inf)\n",
    "\n",
    "#son array'i numpy array'ine çevir\n",
    "x_train=np.array(padded_arrays)\n",
    "\n",
    "print(x_train.shape)\n",
    "\n",
    "np.set_printoptions(threshold=1000)"
   ]
  },
  {
   "cell_type": "code",
   "execution_count": 8,
   "id": "cfc9cbff",
   "metadata": {},
   "outputs": [
    {
     "data": {
      "text/plain": [
       "(1094, 384, 14)"
      ]
     },
     "execution_count": 8,
     "metadata": {},
     "output_type": "execute_result"
    }
   ],
   "source": [
    "global wordsList,wordsIndextList\n",
    "\n",
    "wordsList = []\n",
    "wordsIndextList = []\n",
    "max_sequence_length = 384\n",
    "\n",
    "\n",
    "label_list = [\"<start_\\\"company_name\\\">\",\n",
    "              \"<end_\\\"company_name\\\">\",\n",
    "                  \"<start_\\\"date\\\">\",\n",
    "                  \"<end_\\\"date\\\">\",\n",
    "                  \"<start_\\\"time\\\">\",\n",
    "                  \"<end_\\\"time\\\">\",\n",
    "                  \"<start_\\\"receipt_number\\\">\",\n",
    "                  \"<end_\\\"receipt_number\\\">\",\n",
    "                  \"<start_\\\"tax\\\">\",\n",
    "                  \"<end_\\\"tax\\\">\",\n",
    "                  \"<start_\\\"amount\\\">\",\n",
    "                  \"<end_\\\"amount\\\">\"]\n",
    "\n",
    "label_list2= [\"Pad\",\"Others\",\"B_Comp\",\"l_Comp\",\"B_Date\",\"l_Date\",\"B_Time\",\"l_Time\",\n",
    "                  \"B_Receipt\",\"l_Receipt\",\"B_Tax\",\"l_Tax\",\"B_Amount\",\"l_Amount\"]\n",
    "\n",
    " \n",
    "\n",
    "def one_hot_encode_index_list():\n",
    "    oneHotEncodedList = []\n",
    "    unique_labels_len = len(sorted(set(label_list2)))\n",
    "    for i in wordsIndextList:\n",
    "        bitlist = list(0 for i in range(unique_labels_len))\n",
    "        bitlist[i] = 1\n",
    "        oneHotEncodedList.append(bitlist)\n",
    "\n",
    "    for i in  range(max_sequence_length-len(oneHotEncodedList)):\n",
    "        oneHotEncodedList.append([0,0,0,0,0,0,0,0,0,0,0,0,0,0])\n",
    "    return oneHotEncodedList\n",
    "\n",
    "\n",
    "def splitfunction(text:str):\n",
    "    global wordsList,wordsIndextList\n",
    "    wordsList = []\n",
    "    wordsIndextList = []\n",
    "    words = text.split()\n",
    "    for word in words:\n",
    "        wordsList.append(word)\n",
    "        wordsIndextList.append(1)\n",
    "\n",
    "\n",
    "\n",
    "def indexAssignment(tag,last):\n",
    "    if(tag==None):\n",
    "        return None\n",
    "    index = label_list.index(tag)+2\n",
    "    if(last == \"l\"):\n",
    "       index +=1\n",
    "    return index\n",
    "\n",
    "\n",
    "def checkTag(word:str):\n",
    "    for tag in label_list:\n",
    "        index = word.find(tag)\n",
    "        if index != -1:\n",
    "            return tag    \n",
    "    return None\n",
    "\n",
    "\n",
    "\n",
    "def tagingWords():\n",
    "    control = None\n",
    "    counter = 0\n",
    "    for word in wordsList:\n",
    "        tag = checkTag(word)\n",
    "        if tag != None:\n",
    "            if(word.find(\"<start_\") != -1):\n",
    "                control = tag\n",
    "            if(word.find(\"<start_\") != -1 and word.find(\"<end_\") == -1):\n",
    "                wordsIndextList[counter] = indexAssignment(tag,\"B\")\n",
    "                counter+=1\n",
    "            elif(word.find(\"<start_\") != -1 and word.find(\"<end_\") != -1):\n",
    "                wordsIndextList[counter] = indexAssignment(tag,\"B\")\n",
    "                counter+=1\n",
    "            else:\n",
    "                wordsIndextList[counter] = indexAssignment(tag,\"B\")\n",
    "                counter+=1\n",
    "            if(word.find(\"<end_\") != -1):\n",
    "                control = None\n",
    "        elif control !=None:\n",
    "            wordsIndextList[counter] = indexAssignment(control,\"l\")\n",
    "            counter+=1\n",
    "        else:\n",
    "            counter+=1  \n",
    "\n",
    "\n",
    "def oneHotEncodedFunction(texts):    \n",
    "    splitfunction(texts)\n",
    "    tagingWords()\n",
    "    return np.array(one_hot_encode_index_list())\n",
    "\n",
    "\n",
    "\n",
    "folder_path = \".\"\n",
    "file_list = os.listdir(folder_path)\n",
    "y_train= []\n",
    "\n",
    "for file_name in file_list:\n",
    "    if file_name.endswith(\".txt\"):\n",
    "        file_path = os.path.join(folder_path, file_name)\n",
    "        with open(file_path, 'r', encoding='utf-8') as f:\n",
    "            text = f.read()\n",
    "            result = oneHotEncodedFunction(text)\n",
    "            \n",
    "            if len(y_train) == 0:\n",
    "                y_train = np.array([result])\n",
    "            else:\n",
    "                y_train = np.concatenate((y_train, [result]), axis=0)\n",
    "                \n",
    "y_train.shape"
   ]
  },
  {
   "cell_type": "code",
   "execution_count": 48,
   "id": "7a66c5a5",
   "metadata": {},
   "outputs": [
    {
     "name": "stdout",
     "output_type": "stream",
     "text": [
      "(16, 384, 20)\n"
     ]
    }
   ],
   "source": [
    "# LSTM Modeli\n",
    "\n",
    "input_shape = (max_sequence_length, max_word_length)\n",
    "input_layer = Input(shape=(max_sequence_length,max_word_length), batch_size=16)\n",
    "print(input_layer.shape)\n"
   ]
  },
  {
   "cell_type": "code",
   "execution_count": 49,
   "id": "f3990228",
   "metadata": {},
   "outputs": [
    {
     "name": "stdout",
     "output_type": "stream",
     "text": [
      "(16, 384, 20, 128)\n"
     ]
    }
   ],
   "source": [
    "char_embedding = Embedding(input_dim=max_word_length, output_dim=embedding_size)(input_layer)\n",
    "print(char_embedding.shape)\n"
   ]
  },
  {
   "cell_type": "code",
   "execution_count": 50,
   "id": "2d0cc83e",
   "metadata": {},
   "outputs": [
    {
     "name": "stdout",
     "output_type": "stream",
     "text": [
      "(6144, 20, 128)\n"
     ]
    }
   ],
   "source": [
    "reshaped_embedding = tensorflow.reshape(char_embedding, (batch_size * max_sequence_length, max_word_length, embedding_size))\n",
    "print(reshaped_embedding.shape)"
   ]
  },
  {
   "cell_type": "code",
   "execution_count": 51,
   "id": "8bfb6fb0",
   "metadata": {},
   "outputs": [
    {
     "name": "stdout",
     "output_type": "stream",
     "text": [
      "KerasTensor(type_spec=TensorSpec(shape=(6144, 20, 256), dtype=tf.float32, name=None), name='lstm_6/PartitionedCall:1', description=\"created by layer 'lstm_6'\")\n",
      "KerasTensor(type_spec=TensorSpec(shape=(6144, 20, 256), dtype=tf.float32, name=None), name='lstm_7/PartitionedCall:1', description=\"created by layer 'lstm_7'\")\n"
     ]
    }
   ],
   "source": [
    "char_lstm, state_h, state_c = LSTM(units=lstm_units, return_sequences=True, return_state=True)(reshaped_embedding)\n",
    "print(char_lstm)\n",
    "\n",
    "char_lstm2, state_h, state_c = LSTM(units=lstm_units, return_sequences=True, return_state=True)(char_lstm, initial_state=[state_h, state_c])\n",
    "print(char_lstm2)"
   ]
  },
  {
   "cell_type": "code",
   "execution_count": 52,
   "id": "1c96a08e",
   "metadata": {},
   "outputs": [
    {
     "name": "stdout",
     "output_type": "stream",
     "text": [
      "(16, 384, 256)\n"
     ]
    }
   ],
   "source": [
    "reshaped = tensorflow.reshape(state_h, (batch_size,max_sequence_length, state_h.shape[-1]))\n",
    "print(reshaped.shape)"
   ]
  },
  {
   "cell_type": "code",
   "execution_count": 53,
   "id": "5f01ccde",
   "metadata": {},
   "outputs": [
    {
     "name": "stdout",
     "output_type": "stream",
     "text": [
      "KerasTensor(type_spec=TensorSpec(shape=(16, 384, 256), dtype=tf.float32, name=None), name='lstm_8/PartitionedCall:1', description=\"created by layer 'lstm_8'\")\n",
      "KerasTensor(type_spec=TensorSpec(shape=(16, 384, 256), dtype=tf.float32, name=None), name='lstm_9/PartitionedCall:1', description=\"created by layer 'lstm_9'\")\n"
     ]
    }
   ],
   "source": [
    "word_lstm1, state_h, state_c = LSTM(units=lstm_units, return_sequences=True, return_state=True)(reshaped)\n",
    "print(word_lstm1)\n",
    "word_lstm2, state_h, state_c = LSTM(units=lstm_units, return_sequences=True, return_state=True)(word_lstm1, initial_state=[state_h, state_c])\n",
    "print(word_lstm2)"
   ]
  },
  {
   "cell_type": "code",
   "execution_count": 54,
   "id": "9c2cc683",
   "metadata": {},
   "outputs": [
    {
     "name": "stdout",
     "output_type": "stream",
     "text": [
      "KerasTensor(type_spec=TensorSpec(shape=(16, 384, 256), dtype=tf.float32, name=None), name='lstm_9/PartitionedCall:1', description=\"created by layer 'lstm_9'\")\n"
     ]
    }
   ],
   "source": [
    "classification_output = Dense(units=num_classes, activation='softmax')(word_lstm2)\n",
    "print(word_lstm2)"
   ]
  },
  {
   "cell_type": "code",
   "execution_count": 55,
   "id": "d188365b",
   "metadata": {},
   "outputs": [],
   "source": [
    "model = Model(inputs=input_layer, outputs=[classification_output, char_lstm])\n"
   ]
  },
  {
   "cell_type": "code",
   "execution_count": 56,
   "id": "86af8a62",
   "metadata": {},
   "outputs": [
    {
     "name": "stdout",
     "output_type": "stream",
     "text": [
      "Model: \"model_1\"\n",
      "__________________________________________________________________________________________________\n",
      " Layer (type)                   Output Shape         Param #     Connected to                     \n",
      "==================================================================================================\n",
      " input_4 (InputLayer)           [(16, 384, 20)]      0           []                               \n",
      "                                                                                                  \n",
      " embedding_2 (Embedding)        (16, 384, 20, 128)   2560        ['input_4[0][0]']                \n",
      "                                                                                                  \n",
      " tf.reshape_5 (TFOpLambda)      (6144, 20, 128)      0           ['embedding_2[0][0]']            \n",
      "                                                                                                  \n",
      " lstm_6 (LSTM)                  [(6144, 20, 256),    394240      ['tf.reshape_5[0][0]']           \n",
      "                                 (6144, 256),                                                     \n",
      "                                 (6144, 256)]                                                     \n",
      "                                                                                                  \n",
      " lstm_7 (LSTM)                  [(6144, 20, 256),    525312      ['lstm_6[0][0]',                 \n",
      "                                 (6144, 256),                     'lstm_6[0][1]',                 \n",
      "                                 (6144, 256)]                     'lstm_6[0][2]']                 \n",
      "                                                                                                  \n",
      " tf.reshape_6 (TFOpLambda)      (16, 384, 256)       0           ['lstm_7[0][1]']                 \n",
      "                                                                                                  \n",
      " lstm_8 (LSTM)                  [(16, 384, 256),     525312      ['tf.reshape_6[0][0]']           \n",
      "                                 (16, 256),                                                       \n",
      "                                 (16, 256)]                                                       \n",
      "                                                                                                  \n",
      " lstm_9 (LSTM)                  [(16, 384, 256),     525312      ['lstm_8[0][0]',                 \n",
      "                                 (16, 256),                       'lstm_8[0][1]',                 \n",
      "                                 (16, 256)]                       'lstm_8[0][2]']                 \n",
      "                                                                                                  \n",
      " dense_1 (Dense)                (16, 384, 14)        3598        ['lstm_9[0][0]']                 \n",
      "                                                                                                  \n",
      "==================================================================================================\n",
      "Total params: 1,976,334\n",
      "Trainable params: 1,976,334\n",
      "Non-trainable params: 0\n",
      "__________________________________________________________________________________________________\n"
     ]
    }
   ],
   "source": [
    "model.compile(optimizer='adam', loss='categorical_crossentropy', metrics=['accuracy'])\n",
    "\n",
    "model.summary()"
   ]
  }
 ],
 "metadata": {
  "kernelspec": {
   "display_name": "Python 3 (ipykernel)",
   "language": "python",
   "name": "python3"
  },
  "language_info": {
   "codemirror_mode": {
    "name": "ipython",
    "version": 3
   },
   "file_extension": ".py",
   "mimetype": "text/x-python",
   "name": "python",
   "nbconvert_exporter": "python",
   "pygments_lexer": "ipython3",
   "version": "3.8.10"
  }
 },
 "nbformat": 4,
 "nbformat_minor": 5
}
