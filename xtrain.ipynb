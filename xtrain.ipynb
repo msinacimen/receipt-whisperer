{
 "cells": [
  {
   "cell_type": "code",
   "execution_count": null,
   "id": "49f8aedf-5f70-49b6-8880-c01d1b5ae82f",
   "metadata": {},
   "outputs": [],
   "source": []
  },
  {
   "cell_type": "code",
   "execution_count": 111,
   "id": "4845b13a-2738-4ca6-bc87-4f7ac96af67c",
   "metadata": {},
   "outputs": [],
   "source": [
    "import os\n",
    "import numpy as np\n",
    "from keras.preprocessing.text import Tokenizer\n",
    "from keras.preprocessing.sequence import pad_sequences"
   ]
  },
  {
   "cell_type": "code",
   "execution_count": 173,
   "id": "3dbfe174-ec20-4194-8ef4-d68dfc1c7a0c",
   "metadata": {},
   "outputs": [],
   "source": [
    "def process_text_files(directory):\n",
    "    all_texts = []\n",
    "    all_texts_extend = []\n",
    "    \n",
    "    # Iterate over all files in the directory\n",
    "    for filename in os.listdir(directory):\n",
    "        if filename.endswith('.txt'):\n",
    "            file_path = os.path.join(directory, filename)\n",
    "            with open(file_path, 'r') as file:\n",
    "                txt_data = file.read().split()\n",
    "                all_texts.append(txt_data)\n",
    "                all_texts_extend.extend(txt_data)\n",
    "    \n",
    "    tokenizer = Tokenizer(char_level=True)\n",
    "    tokenizer.fit_on_texts(all_texts_extend)\n",
    "    \n",
    "    print(all_texts)\n",
    "    print(\"-----------------\")\n",
    "    print(all_texts_extend)\n",
    "    print(\"-----------------\")\n",
    "\n",
    "    \n",
    "    all_sequences=[]\n",
    "    for i in range(len(all_texts)):\n",
    "        #print(tokenizer.texts_to_sequences(all_texts[i]))\n",
    "        all_sequences.append(tokenizer.texts_to_sequences(all_texts[i]))\n",
    "        \n",
    "    print(\"ALL SEQUENCES,\",all_sequences)\n",
    "    print(\"-----------------\")\n",
    "    \n",
    "    \n",
    "    max_word_length = 20\n",
    "    trunc_type = 'post'\n",
    "    padding_type = 'post'\n",
    "    \n",
    "    # Pad each word sequence to the length of the longest word\n",
    "    all_padded_sequences=[]\n",
    "    for i in range(len(all_sequences)):\n",
    "        padded_sequence = pad_sequences(all_sequences[i], maxlen=max_word_length, padding=padding_type, truncating=trunc_type)\n",
    "        if padded_sequence.shape[0] <= 3:\n",
    "            all_padded_sequences.append(padded_sequence)\n",
    "        else:\n",
    "            print(\"Ignoring sequence with shape greater than 3:\", padded_sequence.shape[0])\n",
    "        \n",
    "    #new_array=np.array(all_padded_sequences,dtype=object)\n",
    "\n",
    "    \n",
    "    return all_padded_sequences, tokenizer.word_index"
   ]
  },
  {
   "cell_type": "code",
   "execution_count": 174,
   "id": "bc7c909e-ebfb-4759-9059-9c274d24653a",
   "metadata": {},
   "outputs": [],
   "source": [
    "def add_zero_arrays(arr):\n",
    "    while len(arr) < 4:\n",
    "        arr = np.concatenate((arr, np.zeros((1, 20), dtype=np.int32)))\n",
    "    return arr"
   ]
  },
  {
   "cell_type": "code",
   "execution_count": 175,
   "id": "df4614e4-47ad-49d0-840b-753260b4a139",
   "metadata": {},
   "outputs": [
    {
     "name": "stdout",
     "output_type": "stream",
     "text": [
      "[['asd', 'ali'], ['dss', 'cali', 'asd', 'asdasd']]\n",
      "-----------------\n",
      "['asd', 'ali', 'dss', 'cali', 'asd', 'asdasd']\n",
      "-----------------\n",
      "ALL SEQUENCES, [[[1, 2, 3], [1, 4, 5]], [[3, 2, 2], [6, 1, 4, 5], [1, 2, 3], [1, 2, 3, 1, 2, 3]]]\n",
      "-----------------\n",
      "Ignoring sequence with shape greater than 3: 4\n",
      "0 [[1 2 3 0 0 0 0 0 0 0 0 0 0 0 0 0 0 0 0 0]\n",
      " [1 4 5 0 0 0 0 0 0 0 0 0 0 0 0 0 0 0 0 0]]\n",
      "-----------------\n",
      "{'a': 1, 's': 2, 'd': 3, 'l': 4, 'i': 5, 'c': 6}\n",
      "-----------------\n"
     ]
    }
   ],
   "source": [
    "directory_path = '/Users/talhaunal/Downloads/OCR_dataset/deneme-veriler'\n",
    "padded_sequences, word_index = process_text_files(directory_path)\n",
    "\n",
    "for i in range(len(padded_sequences)):\n",
    "    print(i,padded_sequences[i])\n",
    "    \n",
    "print(\"-----------------\")\n",
    "\n",
    "print(word_index)\n",
    "\n",
    "print(\"-----------------\")\n",
    "\n",
    "#result_list = [add_zero_arrays(arr) for arr in padded_sequences]\n",
    "\n",
    "#print(result_list)\n",
    "# Printing the result\n",
    "#for arr in result_list:\n",
    "    #print(arr)"
   ]
  },
  {
   "cell_type": "code",
   "execution_count": null,
   "id": "f6e9ab53-d859-4d83-9be3-7d7ae04a5ded",
   "metadata": {},
   "outputs": [],
   "source": []
  }
 ],
 "metadata": {
  "kernelspec": {
   "display_name": "Python 3 (ipykernel)",
   "language": "python",
   "name": "python3"
  },
  "language_info": {
   "codemirror_mode": {
    "name": "ipython",
    "version": 3
   },
   "file_extension": ".py",
   "mimetype": "text/x-python",
   "name": "python",
   "nbconvert_exporter": "python",
   "pygments_lexer": "ipython3",
   "version": "3.8.18"
  }
 },
 "nbformat": 4,
 "nbformat_minor": 5
}
