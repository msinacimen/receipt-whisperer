{
 "cells": [
  {
   "cell_type": "code",
   "execution_count": null,
   "metadata": {},
   "outputs": [],
   "source": [
    "import os\n",
    "import re\n",
    "\n",
    "def find_longest_text_and_word_in_directory(directory):\n",
    "    longest_text = \"\"\n",
    "    longest_word = \"\"\n",
    "    max_text_length = 0\n",
    "    max_word_length = 0\n",
    "\n",
    "    # Iterate through all files in the directory\n",
    "    for file in os.listdir(directory):\n",
    "        if file.endswith('.txt'):\n",
    "            file_path = os.path.join(directory, file)\n",
    "            with open(file_path, 'r', encoding='utf-8') as file_open:\n",
    "                content = file_open.read()\n",
    "                # Find the longest text\n",
    "                if len(content) > max_text_length:\n",
    "                    max_text_length = len(content)\n",
    "                    longest_text = content\n",
    "                \n",
    "                # Regex pattern to find text between start and end tags\n",
    "                pattern = r'<start_\"([^\"]+)\">([^<]+)<end_\"([^\"]+)\">'\n",
    "                # Find all matches\n",
    "                matches = re.findall(pattern, content)\n",
    "                \n",
    "                for match in matches:\n",
    "                    # Get the text between tags\n",
    "                    between_tags = match[1]\n",
    "                    # Check if the text is longer than the current longest word\n",
    "                    if len(between_tags) > max_word_length:\n",
    "                        max_word_length = len(between_tags)\n",
    "                        longest_word = between_tags\n",
    "\n",
    "    return longest_text, longest_word\n",
    "\n",
    "# Example directory\n",
    "directory = \".\"  # Current directory\n",
    "longest_text, longest_word = find_longest_text_and_word_in_directory(directory)\n",
    "\n",
    "print(\"Longest text:\")\n",
    "print(longest_text)\n",
    "print(\"Longest word between tags:\")\n",
    "print(longest_word)\n",
    "\n",
    "print(\"Length of longest text:\", len(longest_text))\n",
    "print(\"Length of longest word:\", len(longest_word))\n"
   ]
  },
  {
   "cell_type": "code",
   "execution_count": 1,
   "metadata": {},
   "outputs": [
    {
     "ename": "SystemExit",
     "evalue": "0",
     "output_type": "error",
     "traceback": [
      "An exception has occurred, use %tb to see the full traceback.\n",
      "\u001b[1;31mSystemExit\u001b[0m\u001b[1;31m:\u001b[0m 0\n"
     ]
    },
    {
     "name": "stderr",
     "output_type": "stream",
     "text": [
      "C:\\Users\\msina\\AppData\\Roaming\\Python\\Python311\\site-packages\\IPython\\core\\interactiveshell.py:3558: UserWarning: To exit: use 'exit', 'quit', or Ctrl-D.\n",
      "  warn(\"To exit: use 'exit', 'quit', or Ctrl-D.\", stacklevel=1)\n"
     ]
    }
   ],
   "source": [
    "import sys\n",
    "from PyQt5.QtWidgets import QApplication, QWidget, QLabel, QVBoxLayout, QPushButton, QFileDialog, QComboBox\n",
    "import easyocr\n",
    "import pytesseract\n",
    "from PIL import Image\n",
    "\n",
    "class ImageReader(QWidget):\n",
    "    def __init__(self):\n",
    "        super().__init__()\n",
    "\n",
    "        self.setWindowTitle(\"Image Text Reader\")\n",
    "        self.setGeometry(100, 100, 400, 250)\n",
    "\n",
    "        self.layout = QVBoxLayout()\n",
    "\n",
    "        self.image_label = QLabel(\"Görsel burada görünecek\")\n",
    "        self.layout.addWidget(self.image_label)\n",
    "\n",
    "        self.load_button = QPushButton(\"Görsel Yükle\")\n",
    "        self.load_button.clicked.connect(self.load_image)\n",
    "        self.layout.addWidget(self.load_button)\n",
    "\n",
    "        self.ocr_selector = QComboBox()\n",
    "        self.ocr_selector.addItems([\"EasyOCR\", \"Tesseract OCR\"])\n",
    "        self.layout.addWidget(self.ocr_selector)\n",
    "\n",
    "        self.text_label = QLabel(\"Metin burada görünecek\")\n",
    "        self.layout.addWidget(self.text_label)\n",
    "\n",
    "        self.setLayout(self.layout)\n",
    "\n",
    "    def load_image(self):\n",
    "        options = QFileDialog.Options()\n",
    "        file_path, _ = QFileDialog.getOpenFileName(self, \"Görsel Yükle\", \"\", \"Image files (*.jpg *.png *.jpeg *.bmp *.gif)\", options=options)\n",
    "        if file_path:\n",
    "            self.process_image(file_path)\n",
    "\n",
    "    def process_image(self, file_path):\n",
    "        ocr_method = self.ocr_selector.currentText()\n",
    "\n",
    "        if ocr_method == \"EasyOCR\":\n",
    "            reader = easyocr.Reader(['tr'])  # Türkçe dil modellerini kullan\n",
    "            results = reader.readtext(file_path)\n",
    "            text = \"\\n\".join([detection[1] for detection in results])\n",
    "        else:  # Tesseract OCR\n",
    "            text = pytesseract.image_to_string(Image.open(file_path), lang='tur')\n",
    "\n",
    "        self.text_label.setText(text)\n",
    "\n",
    "if __name__ == \"__main__\":\n",
    "    app = QApplication(sys.argv)\n",
    "    window = ImageReader()\n",
    "    window.show()\n",
    "    sys.exit(app.exec_())\n"
   ]
  }
 ],
 "metadata": {
  "kernelspec": {
   "display_name": "Python 3",
   "language": "python",
   "name": "python3"
  },
  "language_info": {
   "codemirror_mode": {
    "name": "ipython",
    "version": 3
   },
   "file_extension": ".py",
   "mimetype": "text/x-python",
   "name": "python",
   "nbconvert_exporter": "python",
   "pygments_lexer": "ipython3",
   "version": "3.11.4"
  }
 },
 "nbformat": 4,
 "nbformat_minor": 2
}
