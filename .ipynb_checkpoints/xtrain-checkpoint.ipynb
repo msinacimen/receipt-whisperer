{
 "cells": [
  {
   "cell_type": "code",
   "execution_count": 4,
   "id": "4845b13a-2738-4ca6-bc87-4f7ac96af67c",
   "metadata": {},
   "outputs": [],
   "source": [
    "import os\n",
    "import numpy as np\n",
    "import tensorflow as tf\n",
    "from tensorflow.keras.preprocessing.text import Tokenizer\n",
    "from tensorflow.keras.preprocessing.sequence import pad_sequences"
   ]
  },
  {
   "cell_type": "code",
   "execution_count": null,
   "id": "02c779e8",
   "metadata": {},
   "outputs": [],
   "source": [
    "## Keras kütüphanesi yerine tensorflow.keras olarak kullanın."
   ]
  },
  {
   "cell_type": "code",
   "execution_count": 13,
   "id": "3dbfe174-ec20-4194-8ef4-d68dfc1c7a0c",
   "metadata": {},
   "outputs": [],
   "source": [
    "def process_text_files(directory):\n",
    "    all_texts = []\n",
    "    all_texts_extend = []\n",
    "    \n",
    "    # Iterate over all files in the directory\n",
    "    for filename in os.listdir(directory):\n",
    "        if filename.endswith('.txt'):\n",
    "            file_path = os.path.join(directory, filename)\n",
    "            with open(file_path, 'r', encoding='utf-8') as file:\n",
    "                txt_data = file.read().split()\n",
    "                all_texts.append(txt_data)\n",
    "                all_texts_extend.extend(txt_data)\n",
    "    \n",
    "    tokenizer = Tokenizer(char_level=True)\n",
    "    tokenizer.fit_on_texts(all_texts_extend)\n",
    "    \n",
    "    print(all_texts)\n",
    "    print(\"-----------------\")\n",
    "    print(all_texts_extend)\n",
    "    print(\"-----------------\")\n",
    "\n",
    "    \n",
    "    all_sequences=[]\n",
    "    for i in range(len(all_texts)):\n",
    "        #print(tokenizer.texts_to_sequences(all_texts[i]))\n",
    "        all_sequences.append(tokenizer.texts_to_sequences(all_texts[i]))\n",
    "        \n",
    "    print(\"ALL SEQUENCES,\",all_sequences)\n",
    "    print(\"-----------------\")\n",
    "    \n",
    "    \n",
    "    max_word_length = 20\n",
    "    trunc_type = 'post'\n",
    "    padding_type = 'post'\n",
    "    \n",
    "    # Pad each word sequence to the length of the longest word\n",
    "    all_padded_sequences=[]\n",
    "    for i in range(len(all_sequences)):\n",
    "        padded_sequence = pad_sequences(all_sequences[i], maxlen=max_word_length, padding=padding_type, truncating=trunc_type)\n",
    "        all_padded_sequences.append(padded_sequence)\n",
    "\n",
    "    #new_array=np.array(all_padded_sequences,dtype=object)\n",
    "\n",
    "    \n",
    "    return all_padded_sequences, tokenizer.word_index"
   ]
  },
  {
   "cell_type": "code",
   "execution_count": 14,
   "id": "bc7c909e-ebfb-4759-9059-9c274d24653a",
   "metadata": {},
   "outputs": [],
   "source": [
    "def add_zero_arrays(arr):\n",
    "    while len(arr) < 360:\n",
    "        arr = np.concatenate((arr, np.zeros((1, 20), dtype=np.int32)))\n",
    "    return arr"
   ]
  },
  {
   "cell_type": "code",
   "execution_count": null,
   "id": "df4614e4-47ad-49d0-840b-753260b4a139",
   "metadata": {},
   "outputs": [],
   "source": [
    "directory_path = '.'\n",
    "padded_sequences, word_index = process_text_files(directory_path)\n",
    "\n",
    "for i in range(len(padded_sequences)):\n",
    "    print(i,padded_sequences[i])\n",
    "    \n",
    "print(\"-----------------\")\n",
    "\n",
    "print(word_index)\n",
    "\n",
    "print(\"-----------------\")\n",
    "\n",
    "#result_list = [add_zero_arrays(arr) for arr in padded_sequences]\n",
    "\n",
    "#print(result_list)\n",
    "# Printing the result\n",
    "#for arr in result_list:\n",
    "    #print(arr)"
   ]
  },
  {
   "cell_type": "code",
   "execution_count": null,
   "id": "93b940d7",
   "metadata": {},
   "outputs": [],
   "source": [
    "import os\n",
    "import numpy as np\n",
    "from tensorflow.keras.preprocessing.text import Tokenizer\n",
    "from tensorflow.keras.preprocessing.sequence import pad_sequences\n",
    "import re\n",
    "\n",
    "def process_text_files(directory):\n",
    "    all_texts = []\n",
    "    all_texts_extend = []\n",
    "    \n",
    "    # Iterate over all files in the directory\n",
    "    for filename in os.listdir(directory):\n",
    "        if filename.endswith('.txt'):\n",
    "            file_path = os.path.join(directory, filename)\n",
    "            with open(file_path, 'r', encoding='utf-8') as file:\n",
    "                content = file.read()\n",
    "                # Remove the tags\n",
    "                content = re.sub(r'<start_\".*?\">', '', content)\n",
    "                content = re.sub(r'<end_\".*?\">', '', content)\n",
    "                txt_data = content.split()\n",
    "                all_texts.append(txt_data)\n",
    "                all_texts_extend.extend(txt_data)\n",
    "    \n",
    "    tokenizer = Tokenizer(char_level=True, lower=False)\n",
    "    tokenizer.fit_on_texts(all_texts_extend)\n",
    "    print(tokenizer.word_index)\n",
    "    \n",
    "    all_sequences=[]\n",
    "    for i in range(len(all_texts)):\n",
    "        all_sequences.append(tokenizer.texts_to_sequences(all_texts[i]))\n",
    "        \n",
    "    max_total_word_length=3\n",
    "    max_word_length = 20\n",
    "    trunc_type = 'post'\n",
    "    padding_type = 'post'\n",
    "    \n",
    "    # Pad each word sequence to the length of the longest word\n",
    "    all_padded_sequences=[]\n",
    "    for i in range(len(all_sequences)):\n",
    "        padded_sequence = pad_sequences(all_sequences[i], maxlen=max_word_length, padding=padding_type, truncating=trunc_type)\n",
    "        all_padded_sequences.append(padded_sequence)\n",
    "    \n",
    "    return all_padded_sequences, tokenizer.word_index\n",
    "\n",
    "directory_path = '.'\n",
    "padded_sequences, word_index = process_text_files(directory_path)\n",
    "\n",
    "for i in range(len(padded_sequences)):\n",
    "    np.set_printoptions(threshold=np.inf)\n",
    "    print(padded_sequences[i])\n",
    "    np.set_printoptions(threshold=1000)\n",
    "\n",
    "print(\"-----------------\")\n",
    "print(word_index)\n",
    "print(\"-----------------\")\n",
    "\n",
    "padded_arrays = []\n",
    "for arr in padded_sequences:\n",
    "    pad_width = ((0, 384 - len(arr)), (0, 0))\n",
    "    padded_arr = np.pad(arr, pad_width, mode='constant', constant_values=0)\n",
    "    padded_arrays.append(padded_arr)\n",
    "\n",
    "print(padded_arrays)\n"
   ]
  },
  {
   "cell_type": "code",
   "execution_count": 129,
   "id": "cfc9cbff",
   "metadata": {},
   "outputs": [
    {
     "data": {
      "text/plain": [
       "(547, 384, 14)"
      ]
     },
     "execution_count": 129,
     "metadata": {},
     "output_type": "execute_result"
    }
   ],
   "source": [
    "import os\n",
    "import numpy as np\n",
    "\n",
    "global wordsList,wordsIndextList\n",
    "\n",
    "wordsList = []\n",
    "wordsIndextList = []\n",
    "max_sequence_length = 384\n",
    "\n",
    "\n",
    "label_list = [\"<start_\\\"company_name\\\">\",\n",
    "              \"<end_\\\"company_name\\\">\",\n",
    "                  \"<start_\\\"date\\\">\",\n",
    "                  \"<end_\\\"date\\\">\",\n",
    "                  \"<start_\\\"time\\\">\",\n",
    "                  \"<end_\\\"time\\\">\",\n",
    "                  \"<start_\\\"receipt_number\\\">\",\n",
    "                  \"<end_\\\"receipt_number\\\">\",\n",
    "                  \"<start_\\\"tax\\\">\",\n",
    "                  \"<end_\\\"tax\\\">\",\n",
    "                  \"<start_\\\"amount\\\">\",\n",
    "                  \"<end_\\\"amount\\\">\"]\n",
    "\n",
    "label_list2= [\"Pad\",\"Others\",\"B_Comp\",\"l_Comp\",\"B_Date\",\"l_Date\",\"B_Time\",\"l_Time\",\n",
    "                  \"B_Receipt\",\"l_Receipt\",\"B_Tax\",\"l_Tax\",\"B_Amount\",\"l_Amount\"]\n",
    "\n",
    " \n",
    "\n",
    "def one_hot_encode_index_list():\n",
    "    oneHotEncodedList = []\n",
    "    unique_labels_len = len(sorted(set(label_list2)))\n",
    "    for i in wordsIndextList:\n",
    "        bitlist = list(0 for i in range(unique_labels_len))\n",
    "        bitlist[i] = 1\n",
    "        oneHotEncodedList.append(bitlist)\n",
    "\n",
    "    for i in  range(max_sequence_length-len(oneHotEncodedList)):\n",
    "        oneHotEncodedList.append([0,0,0,0,0,0,0,0,0,0,0,0,0,0])\n",
    "    return oneHotEncodedList\n",
    "\n",
    "\n",
    "def splitfunction(text:str):\n",
    "    global wordsList,wordsIndextList\n",
    "    wordsList = []\n",
    "    wordsIndextList = []\n",
    "    words = text.split()\n",
    "    for word in words:\n",
    "        wordsList.append(word)\n",
    "        wordsIndextList.append(1)\n",
    "\n",
    "\n",
    "\n",
    "def indexAssignment(tag,last):\n",
    "    if(tag==None):\n",
    "        return None\n",
    "    index = label_list.index(tag)+2\n",
    "    if(last == \"l\"):\n",
    "       index +=1\n",
    "    return index\n",
    "\n",
    "\n",
    "def checkTag(word:str):\n",
    "    for tag in label_list:\n",
    "        index = word.find(tag)\n",
    "        if index != -1:\n",
    "            return tag    \n",
    "    return None\n",
    "\n",
    "\n",
    "\n",
    "def tagingWords():\n",
    "    control = None\n",
    "    counter = 0\n",
    "    for word in wordsList:\n",
    "        tag = checkTag(word)\n",
    "        if tag != None:\n",
    "            if(word.find(\"<start_\") != -1):\n",
    "                control = tag\n",
    "            if(word.find(\"<start_\") != -1 and word.find(\"<end_\") == -1):\n",
    "                wordsIndextList[counter] = indexAssignment(tag,\"B\")\n",
    "                counter+=1\n",
    "            elif(word.find(\"<start_\") != -1 and word.find(\"<end_\") != -1):\n",
    "                wordsIndextList[counter] = indexAssignment(tag,\"B\")\n",
    "                counter+=1\n",
    "            else:\n",
    "                wordsIndextList[counter] = indexAssignment(tag,\"B\")\n",
    "                counter+=1\n",
    "            if(word.find(\"<end_\") != -1):\n",
    "                control = None\n",
    "        elif control !=None:\n",
    "            wordsIndextList[counter] = indexAssignment(control,\"l\")\n",
    "            counter+=1\n",
    "        else:\n",
    "            counter+=1  \n",
    "\n",
    "\n",
    "def oneHotEncodedFunction(texts):    \n",
    "    splitfunction(texts)\n",
    "    tagingWords()\n",
    "    return np.array(one_hot_encode_index_list())\n",
    "\n",
    "\n",
    "\n",
    "folder_path = \".\"\n",
    "file_list = os.listdir(folder_path)\n",
    "y_train= []\n",
    "\n",
    "for file_name in file_list:\n",
    "    if file_name.endswith(\".txt\"):\n",
    "        file_path = os.path.join(folder_path, file_name)\n",
    "        with open(file_path, 'r', encoding='utf-8') as f:\n",
    "            text = f.read()\n",
    "            result = oneHotEncodedFunction(text)\n",
    "            \n",
    "            if len(y_train) == 0:\n",
    "                y_train = np.array([result])\n",
    "            else:\n",
    "                y_train = np.concatenate((y_train, [result]), axis=0)\n",
    "                \n",
    "y_train.shape"
   ]
  },
  {
   "cell_type": "code",
   "execution_count": 48,
   "id": "7a66c5a5",
   "metadata": {},
   "outputs": [
    {
     "name": "stdout",
     "output_type": "stream",
     "text": [
      "(16, 384, 20)\n"
     ]
    }
   ],
   "source": [
    "# LSTM Modeli\n",
    "\n",
    "import tensorflow \n",
    "from tensorflow.keras.layers import Reshape\n",
    "from keras.layers import Input, Embedding, Reshape, LSTM, Dense, Flatten\n",
    "from keras.models import Model\n",
    "\n",
    "batch_size = 16\n",
    "max_sequence_length = 384\n",
    "max_word_length = 20\n",
    "embedding_size = 128\n",
    "lstm_units = 256\n",
    "num_classes = 14\n",
    "\n",
    "input_shape = (max_sequence_length, max_word_length)\n",
    "input_layer = Input(shape=(max_sequence_length,max_word_length), batch_size=16)\n",
    "print(input_layer.shape)\n"
   ]
  },
  {
   "cell_type": "code",
   "execution_count": 49,
   "id": "f3990228",
   "metadata": {},
   "outputs": [
    {
     "name": "stdout",
     "output_type": "stream",
     "text": [
      "(16, 384, 20, 128)\n"
     ]
    }
   ],
   "source": [
    "char_embedding = Embedding(input_dim=max_word_length, output_dim=embedding_size)(input_layer)\n",
    "print(char_embedding.shape)\n"
   ]
  },
  {
   "cell_type": "code",
   "execution_count": 50,
   "id": "2d0cc83e",
   "metadata": {},
   "outputs": [
    {
     "name": "stdout",
     "output_type": "stream",
     "text": [
      "(6144, 20, 128)\n"
     ]
    }
   ],
   "source": [
    "reshaped_embedding = tensorflow.reshape(char_embedding, (batch_size * max_sequence_length, max_word_length, embedding_size))\n",
    "print(reshaped_embedding.shape)"
   ]
  },
  {
   "cell_type": "code",
   "execution_count": 51,
   "id": "8bfb6fb0",
   "metadata": {},
   "outputs": [
    {
     "name": "stdout",
     "output_type": "stream",
     "text": [
      "KerasTensor(type_spec=TensorSpec(shape=(6144, 20, 256), dtype=tf.float32, name=None), name='lstm_6/PartitionedCall:1', description=\"created by layer 'lstm_6'\")\n",
      "KerasTensor(type_spec=TensorSpec(shape=(6144, 20, 256), dtype=tf.float32, name=None), name='lstm_7/PartitionedCall:1', description=\"created by layer 'lstm_7'\")\n"
     ]
    }
   ],
   "source": [
    "char_lstm, state_h, state_c = LSTM(units=lstm_units, return_sequences=True, return_state=True)(reshaped_embedding)\n",
    "print(char_lstm)\n",
    "\n",
    "char_lstm2, state_h, state_c = LSTM(units=lstm_units, return_sequences=True, return_state=True)(char_lstm, initial_state=[state_h, state_c])\n",
    "print(char_lstm2)"
   ]
  },
  {
   "cell_type": "code",
   "execution_count": 52,
   "id": "1c96a08e",
   "metadata": {},
   "outputs": [
    {
     "name": "stdout",
     "output_type": "stream",
     "text": [
      "(16, 384, 256)\n"
     ]
    }
   ],
   "source": [
    "reshaped = tensorflow.reshape(state_h, (batch_size,max_sequence_length, state_h.shape[-1]))\n",
    "print(reshaped.shape)"
   ]
  },
  {
   "cell_type": "code",
   "execution_count": 53,
   "id": "5f01ccde",
   "metadata": {},
   "outputs": [
    {
     "name": "stdout",
     "output_type": "stream",
     "text": [
      "KerasTensor(type_spec=TensorSpec(shape=(16, 384, 256), dtype=tf.float32, name=None), name='lstm_8/PartitionedCall:1', description=\"created by layer 'lstm_8'\")\n",
      "KerasTensor(type_spec=TensorSpec(shape=(16, 384, 256), dtype=tf.float32, name=None), name='lstm_9/PartitionedCall:1', description=\"created by layer 'lstm_9'\")\n"
     ]
    }
   ],
   "source": [
    "word_lstm1, state_h, state_c = LSTM(units=lstm_units, return_sequences=True, return_state=True)(reshaped)\n",
    "print(word_lstm1)\n",
    "word_lstm2, state_h, state_c = LSTM(units=lstm_units, return_sequences=True, return_state=True)(word_lstm1, initial_state=[state_h, state_c])\n",
    "print(word_lstm2)"
   ]
  },
  {
   "cell_type": "code",
   "execution_count": 54,
   "id": "9c2cc683",
   "metadata": {},
   "outputs": [
    {
     "name": "stdout",
     "output_type": "stream",
     "text": [
      "KerasTensor(type_spec=TensorSpec(shape=(16, 384, 256), dtype=tf.float32, name=None), name='lstm_9/PartitionedCall:1', description=\"created by layer 'lstm_9'\")\n"
     ]
    }
   ],
   "source": [
    "classification_output = Dense(units=num_classes, activation='softmax')(word_lstm2)\n",
    "print(word_lstm2)"
   ]
  },
  {
   "cell_type": "code",
   "execution_count": 55,
   "id": "d188365b",
   "metadata": {},
   "outputs": [],
   "source": [
    "model = Model(inputs=input_layer, outputs=[classification_output, char_lstm])\n"
   ]
  },
  {
   "cell_type": "code",
   "execution_count": 56,
   "id": "86af8a62",
   "metadata": {},
   "outputs": [
    {
     "name": "stdout",
     "output_type": "stream",
     "text": [
      "Model: \"model_1\"\n",
      "__________________________________________________________________________________________________\n",
      " Layer (type)                   Output Shape         Param #     Connected to                     \n",
      "==================================================================================================\n",
      " input_4 (InputLayer)           [(16, 384, 20)]      0           []                               \n",
      "                                                                                                  \n",
      " embedding_2 (Embedding)        (16, 384, 20, 128)   2560        ['input_4[0][0]']                \n",
      "                                                                                                  \n",
      " tf.reshape_5 (TFOpLambda)      (6144, 20, 128)      0           ['embedding_2[0][0]']            \n",
      "                                                                                                  \n",
      " lstm_6 (LSTM)                  [(6144, 20, 256),    394240      ['tf.reshape_5[0][0]']           \n",
      "                                 (6144, 256),                                                     \n",
      "                                 (6144, 256)]                                                     \n",
      "                                                                                                  \n",
      " lstm_7 (LSTM)                  [(6144, 20, 256),    525312      ['lstm_6[0][0]',                 \n",
      "                                 (6144, 256),                     'lstm_6[0][1]',                 \n",
      "                                 (6144, 256)]                     'lstm_6[0][2]']                 \n",
      "                                                                                                  \n",
      " tf.reshape_6 (TFOpLambda)      (16, 384, 256)       0           ['lstm_7[0][1]']                 \n",
      "                                                                                                  \n",
      " lstm_8 (LSTM)                  [(16, 384, 256),     525312      ['tf.reshape_6[0][0]']           \n",
      "                                 (16, 256),                                                       \n",
      "                                 (16, 256)]                                                       \n",
      "                                                                                                  \n",
      " lstm_9 (LSTM)                  [(16, 384, 256),     525312      ['lstm_8[0][0]',                 \n",
      "                                 (16, 256),                       'lstm_8[0][1]',                 \n",
      "                                 (16, 256)]                       'lstm_8[0][2]']                 \n",
      "                                                                                                  \n",
      " dense_1 (Dense)                (16, 384, 14)        3598        ['lstm_9[0][0]']                 \n",
      "                                                                                                  \n",
      "==================================================================================================\n",
      "Total params: 1,976,334\n",
      "Trainable params: 1,976,334\n",
      "Non-trainable params: 0\n",
      "__________________________________________________________________________________________________\n"
     ]
    }
   ],
   "source": [
    "model.compile(optimizer='adam', loss='categorical_crossentropy', metrics=['accuracy'])\n",
    "\n",
    "model.summary()"
   ]
  }
 ],
 "metadata": {
  "kernelspec": {
   "display_name": "Python 3 (ipykernel)",
   "language": "python",
   "name": "python3"
  },
  "language_info": {
   "codemirror_mode": {
    "name": "ipython",
    "version": 3
   },
   "file_extension": ".py",
   "mimetype": "text/x-python",
   "name": "python",
   "nbconvert_exporter": "python",
   "pygments_lexer": "ipython3",
   "version": "3.8.10"
  }
 },
 "nbformat": 4,
 "nbformat_minor": 5
}
